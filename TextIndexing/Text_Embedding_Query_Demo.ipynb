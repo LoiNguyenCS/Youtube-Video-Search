{
  "nbformat": 4,
  "nbformat_minor": 0,
  "metadata": {
    "colab": {
      "provenance": []
    },
    "kernelspec": {
      "name": "python3",
      "display_name": "Python 3"
    },
    "language_info": {
      "name": "python"
    }
  },
  "cells": [
    {
      "cell_type": "code",
      "execution_count": null,
      "metadata": {
        "id": "Lg2QzfT6WIaH",
        "colab": {
          "base_uri": "https://localhost:8080/"
        },
        "outputId": "73313d39-7566-4653-b2b5-5d97fdc7c5cf"
      },
      "outputs": [
        {
          "output_type": "stream",
          "name": "stdout",
          "text": [
            "Collecting chromadb\n",
            "  Downloading chromadb-0.4.18-py3-none-any.whl (502 kB)\n",
            "\u001b[2K     \u001b[90m━━━━━━━━━━━━━━━━━━━━━━━━━━━━━━━━━━━━━━━━\u001b[0m \u001b[32m502.4/502.4 kB\u001b[0m \u001b[31m5.6 MB/s\u001b[0m eta \u001b[36m0:00:00\u001b[0m\n",
            "\u001b[?25hRequirement already satisfied: requests>=2.28 in /usr/local/lib/python3.10/dist-packages (from chromadb) (2.31.0)\n",
            "Requirement already satisfied: pydantic>=1.9 in /usr/local/lib/python3.10/dist-packages (from chromadb) (1.10.13)\n",
            "Collecting chroma-hnswlib==0.7.3 (from chromadb)\n",
            "  Downloading chroma_hnswlib-0.7.3-cp310-cp310-manylinux_2_17_x86_64.manylinux2014_x86_64.whl (2.4 MB)\n",
            "\u001b[2K     \u001b[90m━━━━━━━━━━━━━━━━━━━━━━━━━━━━━━━━━━━━━━━━\u001b[0m \u001b[32m2.4/2.4 MB\u001b[0m \u001b[31m12.1 MB/s\u001b[0m eta \u001b[36m0:00:00\u001b[0m\n",
            "\u001b[?25hCollecting fastapi>=0.95.2 (from chromadb)\n",
            "  Downloading fastapi-0.104.1-py3-none-any.whl (92 kB)\n",
            "\u001b[2K     \u001b[90m━━━━━━━━━━━━━━━━━━━━━━━━━━━━━━━━━━━━━━━━\u001b[0m \u001b[32m92.9/92.9 kB\u001b[0m \u001b[31m12.8 MB/s\u001b[0m eta \u001b[36m0:00:00\u001b[0m\n",
            "\u001b[?25hCollecting uvicorn[standard]>=0.18.3 (from chromadb)\n",
            "  Downloading uvicorn-0.24.0.post1-py3-none-any.whl (59 kB)\n",
            "\u001b[2K     \u001b[90m━━━━━━━━━━━━━━━━━━━━━━━━━━━━━━━━━━━━━━━━\u001b[0m \u001b[32m59.7/59.7 kB\u001b[0m \u001b[31m8.8 MB/s\u001b[0m eta \u001b[36m0:00:00\u001b[0m\n",
            "\u001b[?25hCollecting posthog>=2.4.0 (from chromadb)\n",
            "  Downloading posthog-3.0.2-py2.py3-none-any.whl (37 kB)\n",
            "Requirement already satisfied: typing-extensions>=4.5.0 in /usr/local/lib/python3.10/dist-packages (from chromadb) (4.5.0)\n",
            "Collecting pulsar-client>=3.1.0 (from chromadb)\n",
            "  Downloading pulsar_client-3.3.0-cp310-cp310-manylinux_2_17_x86_64.manylinux2014_x86_64.whl (5.4 MB)\n",
            "\u001b[2K     \u001b[90m━━━━━━━━━━━━━━━━━━━━━━━━━━━━━━━━━━━━━━━━\u001b[0m \u001b[32m5.4/5.4 MB\u001b[0m \u001b[31m33.7 MB/s\u001b[0m eta \u001b[36m0:00:00\u001b[0m\n",
            "\u001b[?25hCollecting onnxruntime>=1.14.1 (from chromadb)\n",
            "  Downloading onnxruntime-1.16.3-cp310-cp310-manylinux_2_17_x86_64.manylinux2014_x86_64.whl (6.4 MB)\n",
            "\u001b[2K     \u001b[90m━━━━━━━━━━━━━━━━━━━━━━━━━━━━━━━━━━━━━━━━\u001b[0m \u001b[32m6.4/6.4 MB\u001b[0m \u001b[31m60.7 MB/s\u001b[0m eta \u001b[36m0:00:00\u001b[0m\n",
            "\u001b[?25hCollecting opentelemetry-api>=1.2.0 (from chromadb)\n",
            "  Downloading opentelemetry_api-1.21.0-py3-none-any.whl (57 kB)\n",
            "\u001b[2K     \u001b[90m━━━━━━━━━━━━━━━━━━━━━━━━━━━━━━━━━━━━━━━━\u001b[0m \u001b[32m57.9/57.9 kB\u001b[0m \u001b[31m7.6 MB/s\u001b[0m eta \u001b[36m0:00:00\u001b[0m\n",
            "\u001b[?25hCollecting opentelemetry-exporter-otlp-proto-grpc>=1.2.0 (from chromadb)\n",
            "  Downloading opentelemetry_exporter_otlp_proto_grpc-1.21.0-py3-none-any.whl (18 kB)\n",
            "Collecting opentelemetry-instrumentation-fastapi>=0.41b0 (from chromadb)\n",
            "  Downloading opentelemetry_instrumentation_fastapi-0.42b0-py3-none-any.whl (11 kB)\n",
            "Collecting opentelemetry-sdk>=1.2.0 (from chromadb)\n",
            "  Downloading opentelemetry_sdk-1.21.0-py3-none-any.whl (105 kB)\n",
            "\u001b[2K     \u001b[90m━━━━━━━━━━━━━━━━━━━━━━━━━━━━━━━━━━━━━━━━\u001b[0m \u001b[32m105.3/105.3 kB\u001b[0m \u001b[31m14.2 MB/s\u001b[0m eta \u001b[36m0:00:00\u001b[0m\n",
            "\u001b[?25hRequirement already satisfied: tokenizers>=0.13.2 in /usr/local/lib/python3.10/dist-packages (from chromadb) (0.15.0)\n",
            "Collecting pypika>=0.48.9 (from chromadb)\n",
            "  Downloading PyPika-0.48.9.tar.gz (67 kB)\n",
            "\u001b[2K     \u001b[90m━━━━━━━━━━━━━━━━━━━━━━━━━━━━━━━━━━━━━━━━\u001b[0m \u001b[32m67.3/67.3 kB\u001b[0m \u001b[31m9.3 MB/s\u001b[0m eta \u001b[36m0:00:00\u001b[0m\n",
            "\u001b[?25h  Installing build dependencies ... \u001b[?25l\u001b[?25hdone\n",
            "  Getting requirements to build wheel ... \u001b[?25l\u001b[?25hdone\n",
            "  Preparing metadata (pyproject.toml) ... \u001b[?25l\u001b[?25hdone\n",
            "Requirement already satisfied: tqdm>=4.65.0 in /usr/local/lib/python3.10/dist-packages (from chromadb) (4.66.1)\n",
            "Collecting overrides>=7.3.1 (from chromadb)\n",
            "  Downloading overrides-7.4.0-py3-none-any.whl (17 kB)\n",
            "Requirement already satisfied: importlib-resources in /usr/local/lib/python3.10/dist-packages (from chromadb) (6.1.1)\n",
            "Requirement already satisfied: grpcio>=1.58.0 in /usr/local/lib/python3.10/dist-packages (from chromadb) (1.59.2)\n",
            "Collecting bcrypt>=4.0.1 (from chromadb)\n",
            "  Downloading bcrypt-4.1.1-cp37-abi3-manylinux_2_28_x86_64.whl (699 kB)\n",
            "\u001b[2K     \u001b[90m━━━━━━━━━━━━━━━━━━━━━━━━━━━━━━━━━━━━━━━━\u001b[0m \u001b[32m699.4/699.4 kB\u001b[0m \u001b[31m48.4 MB/s\u001b[0m eta \u001b[36m0:00:00\u001b[0m\n",
            "\u001b[?25hRequirement already satisfied: typer>=0.9.0 in /usr/local/lib/python3.10/dist-packages (from chromadb) (0.9.0)\n",
            "Collecting kubernetes>=28.1.0 (from chromadb)\n",
            "  Downloading kubernetes-28.1.0-py2.py3-none-any.whl (1.6 MB)\n",
            "\u001b[2K     \u001b[90m━━━━━━━━━━━━━━━━━━━━━━━━━━━━━━━━━━━━━━━━\u001b[0m \u001b[32m1.6/1.6 MB\u001b[0m \u001b[31m51.3 MB/s\u001b[0m eta \u001b[36m0:00:00\u001b[0m\n",
            "\u001b[?25hRequirement already satisfied: tenacity>=8.2.3 in /usr/local/lib/python3.10/dist-packages (from chromadb) (8.2.3)\n",
            "Requirement already satisfied: PyYAML>=6.0.0 in /usr/local/lib/python3.10/dist-packages (from chromadb) (6.0.1)\n",
            "Collecting mmh3>=4.0.1 (from chromadb)\n",
            "  Downloading mmh3-4.0.1-cp310-cp310-manylinux_2_5_x86_64.manylinux1_x86_64.manylinux_2_17_x86_64.manylinux2014_x86_64.whl (72 kB)\n",
            "\u001b[2K     \u001b[90m━━━━━━━━━━━━━━━━━━━━━━━━━━━━━━━━━━━━━━━━\u001b[0m \u001b[32m72.6/72.6 kB\u001b[0m \u001b[31m8.1 MB/s\u001b[0m eta \u001b[36m0:00:00\u001b[0m\n",
            "\u001b[?25hRequirement already satisfied: numpy>=1.22.5 in /usr/local/lib/python3.10/dist-packages (from chromadb) (1.23.5)\n",
            "Requirement already satisfied: anyio<4.0.0,>=3.7.1 in /usr/local/lib/python3.10/dist-packages (from fastapi>=0.95.2->chromadb) (3.7.1)\n",
            "Collecting starlette<0.28.0,>=0.27.0 (from fastapi>=0.95.2->chromadb)\n",
            "  Downloading starlette-0.27.0-py3-none-any.whl (66 kB)\n",
            "\u001b[2K     \u001b[90m━━━━━━━━━━━━━━━━━━━━━━━━━━━━━━━━━━━━━━━━\u001b[0m \u001b[32m67.0/67.0 kB\u001b[0m \u001b[31m8.1 MB/s\u001b[0m eta \u001b[36m0:00:00\u001b[0m\n",
            "\u001b[?25hCollecting typing-extensions>=4.5.0 (from chromadb)\n",
            "  Downloading typing_extensions-4.8.0-py3-none-any.whl (31 kB)\n",
            "Requirement already satisfied: certifi>=14.05.14 in /usr/local/lib/python3.10/dist-packages (from kubernetes>=28.1.0->chromadb) (2023.7.22)\n",
            "Requirement already satisfied: six>=1.9.0 in /usr/local/lib/python3.10/dist-packages (from kubernetes>=28.1.0->chromadb) (1.16.0)\n",
            "Requirement already satisfied: python-dateutil>=2.5.3 in /usr/local/lib/python3.10/dist-packages (from kubernetes>=28.1.0->chromadb) (2.8.2)\n",
            "Requirement already satisfied: google-auth>=1.0.1 in /usr/local/lib/python3.10/dist-packages (from kubernetes>=28.1.0->chromadb) (2.17.3)\n",
            "Requirement already satisfied: websocket-client!=0.40.0,!=0.41.*,!=0.42.*,>=0.32.0 in /usr/local/lib/python3.10/dist-packages (from kubernetes>=28.1.0->chromadb) (1.6.4)\n",
            "Requirement already satisfied: requests-oauthlib in /usr/local/lib/python3.10/dist-packages (from kubernetes>=28.1.0->chromadb) (1.3.1)\n",
            "Requirement already satisfied: oauthlib>=3.2.2 in /usr/local/lib/python3.10/dist-packages (from kubernetes>=28.1.0->chromadb) (3.2.2)\n",
            "Collecting urllib3<2.0,>=1.24.2 (from kubernetes>=28.1.0->chromadb)\n",
            "  Downloading urllib3-1.26.18-py2.py3-none-any.whl (143 kB)\n",
            "\u001b[2K     \u001b[90m━━━━━━━━━━━━━━━━━━━━━━━━━━━━━━━━━━━━━━━━\u001b[0m \u001b[32m143.8/143.8 kB\u001b[0m \u001b[31m17.4 MB/s\u001b[0m eta \u001b[36m0:00:00\u001b[0m\n",
            "\u001b[?25hCollecting coloredlogs (from onnxruntime>=1.14.1->chromadb)\n",
            "  Downloading coloredlogs-15.0.1-py2.py3-none-any.whl (46 kB)\n",
            "\u001b[2K     \u001b[90m━━━━━━━━━━━━━━━━━━━━━━━━━━━━━━━━━━━━━━━━\u001b[0m \u001b[32m46.0/46.0 kB\u001b[0m \u001b[31m4.5 MB/s\u001b[0m eta \u001b[36m0:00:00\u001b[0m\n",
            "\u001b[?25hRequirement already satisfied: flatbuffers in /usr/local/lib/python3.10/dist-packages (from onnxruntime>=1.14.1->chromadb) (23.5.26)\n",
            "Requirement already satisfied: packaging in /usr/local/lib/python3.10/dist-packages (from onnxruntime>=1.14.1->chromadb) (23.2)\n",
            "Requirement already satisfied: protobuf in /usr/local/lib/python3.10/dist-packages (from onnxruntime>=1.14.1->chromadb) (3.20.3)\n",
            "Requirement already satisfied: sympy in /usr/local/lib/python3.10/dist-packages (from onnxruntime>=1.14.1->chromadb) (1.12)\n",
            "Collecting deprecated>=1.2.6 (from opentelemetry-api>=1.2.0->chromadb)\n",
            "  Downloading Deprecated-1.2.14-py2.py3-none-any.whl (9.6 kB)\n",
            "Requirement already satisfied: importlib-metadata<7.0,>=6.0 in /usr/local/lib/python3.10/dist-packages (from opentelemetry-api>=1.2.0->chromadb) (6.8.0)\n",
            "Collecting backoff<3.0.0,>=1.10.0 (from opentelemetry-exporter-otlp-proto-grpc>=1.2.0->chromadb)\n",
            "  Downloading backoff-2.2.1-py3-none-any.whl (15 kB)\n",
            "Requirement already satisfied: googleapis-common-protos~=1.52 in /usr/local/lib/python3.10/dist-packages (from opentelemetry-exporter-otlp-proto-grpc>=1.2.0->chromadb) (1.61.0)\n",
            "Collecting opentelemetry-exporter-otlp-proto-common==1.21.0 (from opentelemetry-exporter-otlp-proto-grpc>=1.2.0->chromadb)\n",
            "  Downloading opentelemetry_exporter_otlp_proto_common-1.21.0-py3-none-any.whl (17 kB)\n",
            "Collecting opentelemetry-proto==1.21.0 (from opentelemetry-exporter-otlp-proto-grpc>=1.2.0->chromadb)\n",
            "  Downloading opentelemetry_proto-1.21.0-py3-none-any.whl (50 kB)\n",
            "\u001b[2K     \u001b[90m━━━━━━━━━━━━━━━━━━━━━━━━━━━━━━━━━━━━━━━━\u001b[0m \u001b[32m50.8/50.8 kB\u001b[0m \u001b[31m6.5 MB/s\u001b[0m eta \u001b[36m0:00:00\u001b[0m\n",
            "\u001b[?25hCollecting opentelemetry-instrumentation-asgi==0.42b0 (from opentelemetry-instrumentation-fastapi>=0.41b0->chromadb)\n",
            "  Downloading opentelemetry_instrumentation_asgi-0.42b0-py3-none-any.whl (13 kB)\n",
            "Collecting opentelemetry-instrumentation==0.42b0 (from opentelemetry-instrumentation-fastapi>=0.41b0->chromadb)\n",
            "  Downloading opentelemetry_instrumentation-0.42b0-py3-none-any.whl (25 kB)\n",
            "Collecting opentelemetry-semantic-conventions==0.42b0 (from opentelemetry-instrumentation-fastapi>=0.41b0->chromadb)\n",
            "  Downloading opentelemetry_semantic_conventions-0.42b0-py3-none-any.whl (36 kB)\n",
            "Collecting opentelemetry-util-http==0.42b0 (from opentelemetry-instrumentation-fastapi>=0.41b0->chromadb)\n",
            "  Downloading opentelemetry_util_http-0.42b0-py3-none-any.whl (6.9 kB)\n",
            "Requirement already satisfied: setuptools>=16.0 in /usr/local/lib/python3.10/dist-packages (from opentelemetry-instrumentation==0.42b0->opentelemetry-instrumentation-fastapi>=0.41b0->chromadb) (67.7.2)\n",
            "Requirement already satisfied: wrapt<2.0.0,>=1.0.0 in /usr/local/lib/python3.10/dist-packages (from opentelemetry-instrumentation==0.42b0->opentelemetry-instrumentation-fastapi>=0.41b0->chromadb) (1.14.1)\n",
            "Collecting asgiref~=3.0 (from opentelemetry-instrumentation-asgi==0.42b0->opentelemetry-instrumentation-fastapi>=0.41b0->chromadb)\n",
            "  Downloading asgiref-3.7.2-py3-none-any.whl (24 kB)\n",
            "Collecting monotonic>=1.5 (from posthog>=2.4.0->chromadb)\n",
            "  Downloading monotonic-1.6-py2.py3-none-any.whl (8.2 kB)\n",
            "Requirement already satisfied: charset-normalizer<4,>=2 in /usr/local/lib/python3.10/dist-packages (from requests>=2.28->chromadb) (3.3.2)\n",
            "Requirement already satisfied: idna<4,>=2.5 in /usr/local/lib/python3.10/dist-packages (from requests>=2.28->chromadb) (3.4)\n",
            "Requirement already satisfied: huggingface_hub<1.0,>=0.16.4 in /usr/local/lib/python3.10/dist-packages (from tokenizers>=0.13.2->chromadb) (0.19.4)\n",
            "Requirement already satisfied: click<9.0.0,>=7.1.1 in /usr/local/lib/python3.10/dist-packages (from typer>=0.9.0->chromadb) (8.1.7)\n",
            "Collecting h11>=0.8 (from uvicorn[standard]>=0.18.3->chromadb)\n",
            "  Downloading h11-0.14.0-py3-none-any.whl (58 kB)\n",
            "\u001b[2K     \u001b[90m━━━━━━━━━━━━━━━━━━━━━━━━━━━━━━━━━━━━━━━━\u001b[0m \u001b[32m58.3/58.3 kB\u001b[0m \u001b[31m7.4 MB/s\u001b[0m eta \u001b[36m0:00:00\u001b[0m\n",
            "\u001b[?25hCollecting httptools>=0.5.0 (from uvicorn[standard]>=0.18.3->chromadb)\n",
            "  Downloading httptools-0.6.1-cp310-cp310-manylinux_2_5_x86_64.manylinux1_x86_64.manylinux_2_17_x86_64.manylinux2014_x86_64.whl (341 kB)\n",
            "\u001b[2K     \u001b[90m━━━━━━━━━━━━━━━━━━━━━━━━━━━━━━━━━━━━━━━━\u001b[0m \u001b[32m341.4/341.4 kB\u001b[0m \u001b[31m32.6 MB/s\u001b[0m eta \u001b[36m0:00:00\u001b[0m\n",
            "\u001b[?25hCollecting python-dotenv>=0.13 (from uvicorn[standard]>=0.18.3->chromadb)\n",
            "  Downloading python_dotenv-1.0.0-py3-none-any.whl (19 kB)\n",
            "Collecting uvloop!=0.15.0,!=0.15.1,>=0.14.0 (from uvicorn[standard]>=0.18.3->chromadb)\n",
            "  Downloading uvloop-0.19.0-cp310-cp310-manylinux_2_17_x86_64.manylinux2014_x86_64.whl (3.4 MB)\n",
            "\u001b[2K     \u001b[90m━━━━━━━━━━━━━━━━━━━━━━━━━━━━━━━━━━━━━━━━\u001b[0m \u001b[32m3.4/3.4 MB\u001b[0m \u001b[31m65.6 MB/s\u001b[0m eta \u001b[36m0:00:00\u001b[0m\n",
            "\u001b[?25hCollecting watchfiles>=0.13 (from uvicorn[standard]>=0.18.3->chromadb)\n",
            "  Downloading watchfiles-0.21.0-cp310-cp310-manylinux_2_17_x86_64.manylinux2014_x86_64.whl (1.3 MB)\n",
            "\u001b[2K     \u001b[90m━━━━━━━━━━━━━━━━━━━━━━━━━━━━━━━━━━━━━━━━\u001b[0m \u001b[32m1.3/1.3 MB\u001b[0m \u001b[31m61.6 MB/s\u001b[0m eta \u001b[36m0:00:00\u001b[0m\n",
            "\u001b[?25hCollecting websockets>=10.4 (from uvicorn[standard]>=0.18.3->chromadb)\n",
            "  Downloading websockets-12.0-cp310-cp310-manylinux_2_5_x86_64.manylinux1_x86_64.manylinux_2_17_x86_64.manylinux2014_x86_64.whl (130 kB)\n",
            "\u001b[2K     \u001b[90m━━━━━━━━━━━━━━━━━━━━━━━━━━━━━━━━━━━━━━━━\u001b[0m \u001b[32m130.2/130.2 kB\u001b[0m \u001b[31m14.3 MB/s\u001b[0m eta \u001b[36m0:00:00\u001b[0m\n",
            "\u001b[?25hRequirement already satisfied: sniffio>=1.1 in /usr/local/lib/python3.10/dist-packages (from anyio<4.0.0,>=3.7.1->fastapi>=0.95.2->chromadb) (1.3.0)\n",
            "Requirement already satisfied: exceptiongroup in /usr/local/lib/python3.10/dist-packages (from anyio<4.0.0,>=3.7.1->fastapi>=0.95.2->chromadb) (1.1.3)\n",
            "Requirement already satisfied: cachetools<6.0,>=2.0.0 in /usr/local/lib/python3.10/dist-packages (from google-auth>=1.0.1->kubernetes>=28.1.0->chromadb) (5.3.2)\n",
            "Requirement already satisfied: pyasn1-modules>=0.2.1 in /usr/local/lib/python3.10/dist-packages (from google-auth>=1.0.1->kubernetes>=28.1.0->chromadb) (0.3.0)\n",
            "Requirement already satisfied: rsa<5,>=3.1.4 in /usr/local/lib/python3.10/dist-packages (from google-auth>=1.0.1->kubernetes>=28.1.0->chromadb) (4.9)\n",
            "Requirement already satisfied: filelock in /usr/local/lib/python3.10/dist-packages (from huggingface_hub<1.0,>=0.16.4->tokenizers>=0.13.2->chromadb) (3.13.1)\n",
            "Requirement already satisfied: fsspec>=2023.5.0 in /usr/local/lib/python3.10/dist-packages (from huggingface_hub<1.0,>=0.16.4->tokenizers>=0.13.2->chromadb) (2023.6.0)\n",
            "Requirement already satisfied: zipp>=0.5 in /usr/local/lib/python3.10/dist-packages (from importlib-metadata<7.0,>=6.0->opentelemetry-api>=1.2.0->chromadb) (3.17.0)\n",
            "Collecting humanfriendly>=9.1 (from coloredlogs->onnxruntime>=1.14.1->chromadb)\n",
            "  Downloading humanfriendly-10.0-py2.py3-none-any.whl (86 kB)\n",
            "\u001b[2K     \u001b[90m━━━━━━━━━━━━━━━━━━━━━━━━━━━━━━━━━━━━━━━━\u001b[0m \u001b[32m86.8/86.8 kB\u001b[0m \u001b[31m12.8 MB/s\u001b[0m eta \u001b[36m0:00:00\u001b[0m\n",
            "\u001b[?25hRequirement already satisfied: mpmath>=0.19 in /usr/local/lib/python3.10/dist-packages (from sympy->onnxruntime>=1.14.1->chromadb) (1.3.0)\n",
            "Requirement already satisfied: pyasn1<0.6.0,>=0.4.6 in /usr/local/lib/python3.10/dist-packages (from pyasn1-modules>=0.2.1->google-auth>=1.0.1->kubernetes>=28.1.0->chromadb) (0.5.0)\n",
            "Building wheels for collected packages: pypika\n",
            "  Building wheel for pypika (pyproject.toml) ... \u001b[?25l\u001b[?25hdone\n",
            "  Created wheel for pypika: filename=PyPika-0.48.9-py2.py3-none-any.whl size=53723 sha256=4772713222bd232456fb031292357f7f390aedc03b0e8be3a82da33101a7c9f9\n",
            "  Stored in directory: /root/.cache/pip/wheels/e1/26/51/d0bffb3d2fd82256676d7ad3003faea3bd6dddc9577af665f4\n",
            "Successfully built pypika\n",
            "Installing collected packages: pypika, monotonic, mmh3, websockets, uvloop, urllib3, typing-extensions, python-dotenv, pulsar-client, overrides, opentelemetry-util-http, opentelemetry-semantic-conventions, opentelemetry-proto, humanfriendly, httptools, h11, deprecated, chroma-hnswlib, bcrypt, backoff, watchfiles, uvicorn, starlette, opentelemetry-exporter-otlp-proto-common, opentelemetry-api, coloredlogs, asgiref, posthog, opentelemetry-sdk, opentelemetry-instrumentation, onnxruntime, fastapi, opentelemetry-instrumentation-asgi, opentelemetry-exporter-otlp-proto-grpc, kubernetes, opentelemetry-instrumentation-fastapi, chromadb\n",
            "  Attempting uninstall: urllib3\n",
            "    Found existing installation: urllib3 2.0.7\n",
            "    Uninstalling urllib3-2.0.7:\n",
            "      Successfully uninstalled urllib3-2.0.7\n",
            "  Attempting uninstall: typing-extensions\n",
            "    Found existing installation: typing_extensions 4.5.0\n",
            "    Uninstalling typing_extensions-4.5.0:\n",
            "      Successfully uninstalled typing_extensions-4.5.0\n",
            "\u001b[31mERROR: pip's dependency resolver does not currently take into account all the packages that are installed. This behaviour is the source of the following dependency conflicts.\n",
            "lida 0.0.10 requires kaleido, which is not installed.\n",
            "lida 0.0.10 requires python-multipart, which is not installed.\n",
            "tensorflow-probability 0.22.0 requires typing-extensions<4.6.0, but you have typing-extensions 4.8.0 which is incompatible.\u001b[0m\u001b[31m\n",
            "\u001b[0mSuccessfully installed asgiref-3.7.2 backoff-2.2.1 bcrypt-4.1.1 chroma-hnswlib-0.7.3 chromadb-0.4.18 coloredlogs-15.0.1 deprecated-1.2.14 fastapi-0.104.1 h11-0.14.0 httptools-0.6.1 humanfriendly-10.0 kubernetes-28.1.0 mmh3-4.0.1 monotonic-1.6 onnxruntime-1.16.3 opentelemetry-api-1.21.0 opentelemetry-exporter-otlp-proto-common-1.21.0 opentelemetry-exporter-otlp-proto-grpc-1.21.0 opentelemetry-instrumentation-0.42b0 opentelemetry-instrumentation-asgi-0.42b0 opentelemetry-instrumentation-fastapi-0.42b0 opentelemetry-proto-1.21.0 opentelemetry-sdk-1.21.0 opentelemetry-semantic-conventions-0.42b0 opentelemetry-util-http-0.42b0 overrides-7.4.0 posthog-3.0.2 pulsar-client-3.3.0 pypika-0.48.9 python-dotenv-1.0.0 starlette-0.27.0 typing-extensions-4.8.0 urllib3-1.26.18 uvicorn-0.24.0.post1 uvloop-0.19.0 watchfiles-0.21.0 websockets-12.0\n",
            "Collecting langchain\n",
            "  Downloading langchain-0.0.343-py3-none-any.whl (1.9 MB)\n",
            "\u001b[2K     \u001b[90m━━━━━━━━━━━━━━━━━━━━━━━━━━━━━━━━━━━━━━━━\u001b[0m \u001b[32m1.9/1.9 MB\u001b[0m \u001b[31m12.3 MB/s\u001b[0m eta \u001b[36m0:00:00\u001b[0m\n",
            "\u001b[?25hRequirement already satisfied: PyYAML>=5.3 in /usr/local/lib/python3.10/dist-packages (from langchain) (6.0.1)\n",
            "Requirement already satisfied: SQLAlchemy<3,>=1.4 in /usr/local/lib/python3.10/dist-packages (from langchain) (2.0.23)\n",
            "Requirement already satisfied: aiohttp<4.0.0,>=3.8.3 in /usr/local/lib/python3.10/dist-packages (from langchain) (3.8.6)\n",
            "Requirement already satisfied: anyio<4.0 in /usr/local/lib/python3.10/dist-packages (from langchain) (3.7.1)\n",
            "Requirement already satisfied: async-timeout<5.0.0,>=4.0.0 in /usr/local/lib/python3.10/dist-packages (from langchain) (4.0.3)\n",
            "Collecting dataclasses-json<0.7,>=0.5.7 (from langchain)\n",
            "  Downloading dataclasses_json-0.6.3-py3-none-any.whl (28 kB)\n",
            "Collecting jsonpatch<2.0,>=1.33 (from langchain)\n",
            "  Downloading jsonpatch-1.33-py2.py3-none-any.whl (12 kB)\n",
            "Collecting langchain-core<0.1,>=0.0.7 (from langchain)\n",
            "  Downloading langchain_core-0.0.7-py3-none-any.whl (177 kB)\n",
            "\u001b[2K     \u001b[90m━━━━━━━━━━━━━━━━━━━━━━━━━━━━━━━━━━━━━━━━\u001b[0m \u001b[32m177.5/177.5 kB\u001b[0m \u001b[31m12.5 MB/s\u001b[0m eta \u001b[36m0:00:00\u001b[0m\n",
            "\u001b[?25hCollecting langsmith<0.1.0,>=0.0.63 (from langchain)\n",
            "  Downloading langsmith-0.0.67-py3-none-any.whl (47 kB)\n",
            "\u001b[2K     \u001b[90m━━━━━━━━━━━━━━━━━━━━━━━━━━━━━━━━━━━━━━━━\u001b[0m \u001b[32m47.0/47.0 kB\u001b[0m \u001b[31m5.9 MB/s\u001b[0m eta \u001b[36m0:00:00\u001b[0m\n",
            "\u001b[?25hRequirement already satisfied: numpy<2,>=1 in /usr/local/lib/python3.10/dist-packages (from langchain) (1.23.5)\n",
            "Requirement already satisfied: pydantic<3,>=1 in /usr/local/lib/python3.10/dist-packages (from langchain) (1.10.13)\n",
            "Requirement already satisfied: requests<3,>=2 in /usr/local/lib/python3.10/dist-packages (from langchain) (2.31.0)\n",
            "Requirement already satisfied: tenacity<9.0.0,>=8.1.0 in /usr/local/lib/python3.10/dist-packages (from langchain) (8.2.3)\n",
            "Requirement already satisfied: attrs>=17.3.0 in /usr/local/lib/python3.10/dist-packages (from aiohttp<4.0.0,>=3.8.3->langchain) (23.1.0)\n",
            "Requirement already satisfied: charset-normalizer<4.0,>=2.0 in /usr/local/lib/python3.10/dist-packages (from aiohttp<4.0.0,>=3.8.3->langchain) (3.3.2)\n",
            "Requirement already satisfied: multidict<7.0,>=4.5 in /usr/local/lib/python3.10/dist-packages (from aiohttp<4.0.0,>=3.8.3->langchain) (6.0.4)\n",
            "Requirement already satisfied: yarl<2.0,>=1.0 in /usr/local/lib/python3.10/dist-packages (from aiohttp<4.0.0,>=3.8.3->langchain) (1.9.2)\n",
            "Requirement already satisfied: frozenlist>=1.1.1 in /usr/local/lib/python3.10/dist-packages (from aiohttp<4.0.0,>=3.8.3->langchain) (1.4.0)\n",
            "Requirement already satisfied: aiosignal>=1.1.2 in /usr/local/lib/python3.10/dist-packages (from aiohttp<4.0.0,>=3.8.3->langchain) (1.3.1)\n",
            "Requirement already satisfied: idna>=2.8 in /usr/local/lib/python3.10/dist-packages (from anyio<4.0->langchain) (3.4)\n",
            "Requirement already satisfied: sniffio>=1.1 in /usr/local/lib/python3.10/dist-packages (from anyio<4.0->langchain) (1.3.0)\n",
            "Requirement already satisfied: exceptiongroup in /usr/local/lib/python3.10/dist-packages (from anyio<4.0->langchain) (1.1.3)\n",
            "Collecting marshmallow<4.0.0,>=3.18.0 (from dataclasses-json<0.7,>=0.5.7->langchain)\n",
            "  Downloading marshmallow-3.20.1-py3-none-any.whl (49 kB)\n",
            "\u001b[2K     \u001b[90m━━━━━━━━━━━━━━━━━━━━━━━━━━━━━━━━━━━━━━━━\u001b[0m \u001b[32m49.4/49.4 kB\u001b[0m \u001b[31m6.0 MB/s\u001b[0m eta \u001b[36m0:00:00\u001b[0m\n",
            "\u001b[?25hCollecting typing-inspect<1,>=0.4.0 (from dataclasses-json<0.7,>=0.5.7->langchain)\n",
            "  Downloading typing_inspect-0.9.0-py3-none-any.whl (8.8 kB)\n",
            "Collecting jsonpointer>=1.9 (from jsonpatch<2.0,>=1.33->langchain)\n",
            "  Downloading jsonpointer-2.4-py2.py3-none-any.whl (7.8 kB)\n",
            "Requirement already satisfied: typing-extensions>=4.2.0 in /usr/local/lib/python3.10/dist-packages (from pydantic<3,>=1->langchain) (4.8.0)\n",
            "Requirement already satisfied: urllib3<3,>=1.21.1 in /usr/local/lib/python3.10/dist-packages (from requests<3,>=2->langchain) (1.26.18)\n",
            "Requirement already satisfied: certifi>=2017.4.17 in /usr/local/lib/python3.10/dist-packages (from requests<3,>=2->langchain) (2023.7.22)\n",
            "Requirement already satisfied: greenlet!=0.4.17 in /usr/local/lib/python3.10/dist-packages (from SQLAlchemy<3,>=1.4->langchain) (3.0.1)\n",
            "Requirement already satisfied: packaging>=17.0 in /usr/local/lib/python3.10/dist-packages (from marshmallow<4.0.0,>=3.18.0->dataclasses-json<0.7,>=0.5.7->langchain) (23.2)\n",
            "Collecting mypy-extensions>=0.3.0 (from typing-inspect<1,>=0.4.0->dataclasses-json<0.7,>=0.5.7->langchain)\n",
            "  Downloading mypy_extensions-1.0.0-py3-none-any.whl (4.7 kB)\n",
            "Installing collected packages: mypy-extensions, marshmallow, jsonpointer, typing-inspect, langsmith, jsonpatch, langchain-core, dataclasses-json, langchain\n",
            "Successfully installed dataclasses-json-0.6.3 jsonpatch-1.33 jsonpointer-2.4 langchain-0.0.343 langchain-core-0.0.7 langsmith-0.0.67 marshmallow-3.20.1 mypy-extensions-1.0.0 typing-inspect-0.9.0\n"
          ]
        }
      ],
      "source": [
        "!pip install chromadb\n",
        "!pip install langchain"
      ]
    },
    {
      "cell_type": "markdown",
      "source": [
        "**Step 1: Create a collection called subtitle-embeddings**"
      ],
      "metadata": {
        "id": "h8wcY1h2AYMn"
      }
    },
    {
      "cell_type": "code",
      "source": [
        "import pandas as pd\n",
        "import numpy as np\n",
        "import chromadb\n",
        "\n",
        "# Initialize ChromaDB\n",
        "client = chromadb.Client()\n",
        "collection_name = \"subtitle-embeddings\"\n",
        "# client.delete_collection(collection_name)\n",
        "# delete if collection existed to avoid error\n",
        "collection = client.create_collection(collection_name)"
      ],
      "metadata": {
        "id": "XWWpsAgB_kYV"
      },
      "execution_count": 122,
      "outputs": []
    },
    {
      "cell_type": "markdown",
      "source": [
        "**Step 2: In this step I will add the embedding vector of the first setence of VIDEO 1 to the collection.**"
      ],
      "metadata": {
        "id": "Loysz6WIAAC6"
      }
    },
    {
      "cell_type": "code",
      "source": [
        "# Load the CSV file into a DataFrame\n",
        "df = pd.read_csv('2,000 Bodies Recovered After Dam Bursts In Derna, Libya  NPR News Now.xml_embedded.csv', header=None)\n",
        "\n",
        "# Each row contains embedding vectors of a sentence in that video file\n",
        "for index, row in df.iterrows():\n",
        "  if len(row) > 0:\n",
        "    embeddings_array = np.array(row.values).tolist()\n",
        "    sentence_id = f\"Sentence_{index}\"\n",
        "    print(embeddings_array)\n",
        "    collection.add(embeddings=[embeddings_array],\n",
        "                   ids=['video-1-sentence-0'])\n",
        "  break\n",
        "\n",
        "collection = client.get_collection(collection_name)\n",
        "print(collection.get())"
      ],
      "metadata": {
        "colab": {
          "base_uri": "https://localhost:8080/"
        },
        "id": "ezqUIOTrtAv9",
        "outputId": "035f563e-4ab0-4684-d82d-97f88beb2535"
      },
      "execution_count": 123,
      "outputs": [
        {
          "output_type": "stream",
          "name": "stdout",
          "text": [
            "[-0.33789062, 0.19824219, -0.296875, 0.1484375, -0.21777344, -0.036865234, -0.0058288574, -0.12109375, 0.14257812, -0.05053711, -0.05908203, -0.07421875, -0.25195312, -0.068359375, -0.122558594, 0.16308594, 0.002746582, 0.36132812, -0.0056762695, -0.12597656, -0.29101562, -0.11279297, 0.2578125, -0.071777344, 0.02368164, -0.07519531, -0.3671875, 0.027832031, -0.24414062, -0.008300781, 0.123046875, 0.12060547, 0.009338379, 0.008850098, -0.10058594, 0.19824219, -0.4921875, 0.14746094, 0.15234375, 0.125, -0.08300781, -0.15234375, 0.17578125, -0.055419922, 0.0043945312, -0.033691406, 0.07080078, -0.053710938, -0.12451172, 0.234375, -0.140625, 0.23632812, -0.15332031, 0.61328125, 0.29492188, -0.095214844, 0.064941406, -0.15722656, -0.16210938, -0.125, -0.15527344, 0.05517578, -0.045166016, -0.09423828, -0.0047912598, -0.27539062, -0.23046875, 0.014770508, 0.016845703, 0.110839844, 0.05078125, -0.071777344, -0.026733398, -0.08642578, -0.18652344, -0.05053711, 0.2578125, 0.12451172, -0.029296875, -0.11279297, -0.28320312, 0.01953125, -0.32226562, 0.09716797, 0.12890625, 0.091308594, 0.103515625, 0.25585938, -0.18261719, -0.14355469, -0.099121094, 0.23046875, -0.041259766, -0.4375, 0.060302734, 0.06933594, -0.31445312, 0.061767578, 0.38867188, 0.115722656, -0.21875, -0.16015625, -0.17773438, 0.03466797, -0.061035156, 0.22460938, -0.019897461, 0.04663086, -0.17285156, 0.059326172, -0.23144531, -0.29101562, -0.026611328, 0.06225586, 0.23632812, 0.26171875, 0.041503906, -0.14355469, -0.11328125, 0.15527344, 0.018066406, 0.24316406, 0.052001953, 0.15234375, 0.07470703, -0.3046875, -0.16308594, -0.28710938, -0.18457031, -0.11425781, -0.21386719, -0.008056641, 0.015197754, -0.15429688, -0.25585938, 0.0012741089, -0.07421875, 0.13085938, 0.34960938, 0.20507812, 0.171875, -0.15429688, 0.27734375, 0.08984375, -0.07519531, 0.040771484, -0.016967773, 0.10205078, -0.03466797, -0.076660156, 0.009399414, -0.5234375, -0.08105469, -0.20019531, -0.02746582, -0.01940918, 0.0099487305, 0.33007812, -0.18847656, -0.040771484, 0.059570312, 0.17480469, -0.07373047, 0.018432617, 0.028442383, -0.06542969, 0.21289062, 0.24023438, -0.038330078, 0.25195312, -0.21972656, 0.14746094, -0.07714844, -0.030151367, 0.08984375, -0.01977539, 0.18164062, -0.16308594, -0.20996094, -0.19140625, -0.071777344, 0.15820312, 0.079589844, 0.075683594, 0.1796875, 0.021728516, -0.064453125, 0.19824219, -0.15917969, 0.234375, 0.25976562, 0.03173828, -0.26367188, 0.00680542, 0.17480469, -0.22949219, -0.017089844, -0.037597656, 0.068847656, 0.03857422, -0.09375, -0.044921875, -0.3359375, -0.14355469, 0.22070312, -0.053222656, -0.016967773, 0.067871094, 0.0011444092, 0.111816406, 0.12402344, 0.26757812, -0.15234375, -0.15429688, -0.25390625, -0.12792969, 0.203125, -0.20019531, -0.14941406, 0.11425781, -0.19921875, 0.25585938, -0.025878906, 0.100097656, 0.057861328, -0.15820312, 0.25585938, 0.30273438, -0.1640625, -0.12792969, 0.047851562, -0.19238281, -0.22558594, 0.014282227, 0.05883789, -0.00046348572, -0.14160156, 0.09472656, 0.06640625, 0.17480469, 0.17480469, -0.07080078, 0.4140625, -0.0546875, 0.099121094, 0.28125, -0.15429688, 0.011169434, 0.123046875, -0.19238281, 0.39257812, -0.11279297, 0.14941406, 0.0036315918, 0.01977539, -0.1875, 0.06347656, 0.18554688, -0.103515625, 0.06640625, 0.17773438, -0.0030517578, 0.0625, -0.049072266, 0.026123047, -0.11425781, -0.052246094, -0.0046691895, -0.00793457, -0.1640625, 0.036132812, 0.040039062, 0.3359375, 0.021606445, 0.23242188, 0.013244629, -0.060302734, -0.111816406, -0.095214844, -0.02355957, -0.2734375, 0.2734375, 0.036132812, 0.1484375, -0.002456665, 0.087890625, -0.17675781, -0.26953125, -0.055664062, 0.029541016, -0.106933594, 0.026000977, 0.0074768066, 0.14257812, 0.021972656, -0.22070312, -0.05102539, -0.15917969, 0.034179688, 0.091796875]\n",
            "{'ids': ['video-1-sentence-0'], 'embeddings': None, 'metadatas': [None], 'documents': [None], 'uris': None, 'data': None}\n"
          ]
        }
      ]
    },
    {
      "cell_type": "markdown",
      "source": [
        "**Step 2: In this step I will add the embedding vector of the first sentence of VIDEO 2 to the collection.**"
      ],
      "metadata": {
        "id": "o8dt2YXnAU4k"
      }
    },
    {
      "cell_type": "code",
      "source": [
        "# Load the CSV file into a DataFrame\n",
        "df = pd.read_csv('8 Face Off In GOP Presidential Debate Tonight  NPR News Now.xml_embedded.csv', header=None)\n",
        "# Each row contains embedding vectors of a sentence in that video file\n",
        "for index, row in df.iterrows():\n",
        "  if len(row) > 0:\n",
        "    embeddings_array = np.array(row.values).tolist()\n",
        "    sentence_id = f\"Sentence_{index}\"\n",
        "    print(embeddings_array)\n",
        "    collection.add(embeddings=[embeddings_array],\n",
        "                   ids=['video-2-sentence-0'])\n",
        "  break\n",
        "\n",
        "collection = client.get_collection(collection_name)\n",
        "print(collection.get())"
      ],
      "metadata": {
        "colab": {
          "base_uri": "https://localhost:8080/"
        },
        "id": "lQSqZV3K-zNW",
        "outputId": "23d7a40f-54e8-43b3-8590-0af5579c1b2f"
      },
      "execution_count": 124,
      "outputs": [
        {
          "output_type": "stream",
          "name": "stdout",
          "text": [
            "[-0.06933594, 0.15332031, -0.024902344, 0.17285156, 0.083496094, 0.13085938, -0.15429688, 0.12792969, -0.07763672, -0.0099487305, 0.049316406, -0.12988281, -0.15429688, -0.039794922, -0.16699219, 0.13964844, 0.36132812, 0.029541016, 0.12597656, 0.28125, -0.25585938, -0.171875, 0.067871094, 0.17382812, -0.22167969, 0.00019550323, -0.024169922, -0.03466797, 0.026000977, -0.33007812, -0.19726562, -0.009643555, -0.2109375, 0.08300781, 0.02368164, -0.072265625, -0.32226562, -0.17578125, -0.00023269653, 0.107910156, -0.095214844, 0.068359375, -0.19921875, -0.008605957, 0.118652344, -0.17089844, -0.21386719, -0.20410156, -0.33203125, 0.045654297, -0.12988281, 0.2734375, -0.045166016, 0.01940918, 0.17578125, 0.57421875, -0.40820312, -0.30859375, 0.23046875, -0.34960938, 0.026611328, -0.37890625, -0.3125, 0.037353516, -0.30273438, -0.045654297, -0.34179688, 0.18261719, -0.13183594, 0.118652344, 0.029785156, 0.04638672, 0.23144531, 0.25, 0.17675781, -0.13085938, 0.19433594, 0.11376953, 0.006011963, -0.15234375, -0.12402344, -0.09375, 0.018676758, -0.076171875, 0.12060547, 0.061767578, 0.16015625, 0.08691406, 0.07128906, 0.1640625, 0.125, -0.22265625, -0.19628906, -0.20800781, -0.004699707, 0.14257812, -0.0056152344, 0.30078125, 0.31640625, -0.026000977, 0.0546875, -0.0062561035, -0.2578125, 0.15820312, 0.003540039, 0.25, -0.17089844, -0.024658203, 0.34570312, -0.034423828, 0.076171875, -0.39257812, -0.103515625, 0.15429688, -0.11767578, 0.2578125, -0.10546875, -0.013183594, -0.010253906, 0.1953125, 0.07128906, 0.109375, -0.07128906, 0.14355469, 0.091796875, -0.34960938, -0.26367188, -0.087890625, -0.13671875, 0.37890625, 0.048828125, -0.07763672, -0.20507812, -0.14257812, -0.16210938, 0.27539062, 0.078125, 0.04321289, 0.18359375, 0.05444336, 0.2109375, -0.060546875, -0.006591797, -0.059570312, -0.028320312, -0.27734375, -0.16113281, 0.16503906, -0.053222656, -0.10449219, 0.14746094, -0.22167969, -0.05883789, 0.068359375, 0.01550293, -0.24609375, 0.34570312, 0.017211914, -0.17871094, -0.004486084, -0.0703125, -0.044921875, -0.13671875, -0.009643555, -0.017822266, 0.11767578, 0.21875, -0.20410156, -0.14355469, -0.013549805, -0.10107422, -0.34570312, -0.23046875, -0.012817383, 0.031982422, 0.28710938, 0.43945312, -0.44726562, -0.04663086, -0.1640625, -0.12597656, -0.2109375, -0.14355469, -0.26953125, -0.05908203, -0.087890625, -0.33203125, 0.24511719, -0.25390625, 0.023925781, 0.25585938, -0.08886719, -0.3671875, 0.047607422, 0.24511719, 0.14160156, 0.0024108887, -0.092285156, 0.042236328, -0.0045166016, -0.03466797, -0.064941406, -0.022094727, -0.13867188, 0.21582031, -0.2890625, 0.12597656, 0.115722656, -0.12988281, 0.15234375, 0.36914062, 0.072265625, -0.107910156, -0.07373047, -0.020996094, 0.24023438, 0.40039062, 0.017211914, -0.25585938, -0.07519531, -0.091796875, 0.0138549805, -0.18652344, -0.14453125, -0.19238281, -0.34179688, 0.08300781, -0.26757812, 0.25976562, -0.359375, -0.20507812, -0.14550781, 0.013122559, 0.09082031, -0.026489258, -0.025512695, 0.033935547, 0.34179688, -0.045410156, 0.13964844, 0.20703125, -0.12060547, 0.32226562, -0.047851562, -0.060058594, -0.36328125, -0.015319824, -0.029663086, 0.21484375, 0.015258789, -0.15332031, -0.080566406, -0.057128906, 0.22167969, -0.15234375, -0.25195312, -0.27539062, 0.19335938, -0.08544922, -0.23632812, 0.08251953, 0.06225586, 0.23925781, -0.088378906, -0.011657715, -0.118652344, -0.14550781, -0.036621094, -0.029052734, 0.14550781, 0.14355469, -0.10888672, -0.2734375, -0.008605957, 0.057128906, -0.021606445, 0.043701172, -0.06591797, 0.068359375, -0.047607422, -0.16210938, -0.100097656, -0.06591797, -0.044921875, 0.03125, -0.013000488, -0.21777344, 0.030151367, -0.15722656, 0.12158203, 0.10888672, -0.3125, -0.13378906, -0.044921875, 0.10253906, 0.072753906, 0.10644531, 0.060546875, -0.19238281, 0.27148438]\n",
            "{'ids': ['video-1-sentence-0', 'video-2-sentence-0'], 'embeddings': None, 'metadatas': [None, None], 'documents': [None, None], 'uris': None, 'data': None}\n"
          ]
        }
      ]
    },
    {
      "cell_type": "markdown",
      "source": [
        "**Step 4: Query using the embedding of subtitles in VIDEO 1 and ask Chromadb to return only 1 result that match**"
      ],
      "metadata": {
        "id": "XQ3WrtzgApg5"
      }
    },
    {
      "cell_type": "markdown",
      "source": [
        "As you can see, the result shows it is the embedding of video 1. We can create vector embeddings from a user's question and use those embeddings in a query to find the subtitles that best match the input."
      ],
      "metadata": {
        "id": "iMy87fHlA8e2"
      }
    },
    {
      "cell_type": "code",
      "source": [
        "collection.query(\n",
        "    query_embeddings=[[-0.33789062, 0.19824219, -0.296875, 0.1484375, -0.21777344, -0.036865234, -0.0058288574, -0.12109375, 0.14257812, -0.05053711, -0.05908203, -0.07421875, -0.25195312, -0.068359375, -0.122558594, 0.16308594, 0.002746582, 0.36132812, -0.0056762695, -0.12597656, -0.29101562, -0.11279297, 0.2578125, -0.071777344, 0.02368164, -0.07519531, -0.3671875, 0.027832031, -0.24414062, -0.008300781, 0.123046875, 0.12060547, 0.009338379, 0.008850098, -0.10058594, 0.19824219, -0.4921875, 0.14746094, 0.15234375, 0.125, -0.08300781, -0.15234375, 0.17578125, -0.055419922, 0.0043945312, -0.033691406, 0.07080078, -0.053710938, -0.12451172, 0.234375, -0.140625, 0.23632812, -0.15332031, 0.61328125, 0.29492188, -0.095214844, 0.064941406, -0.15722656, -0.16210938, -0.125, -0.15527344, 0.05517578, -0.045166016, -0.09423828, -0.0047912598, -0.27539062, -0.23046875, 0.014770508, 0.016845703, 0.110839844, 0.05078125, -0.071777344, -0.026733398, -0.08642578, -0.18652344, -0.05053711, 0.2578125, 0.12451172, -0.029296875, -0.11279297, -0.28320312, 0.01953125, -0.32226562, 0.09716797, 0.12890625, 0.091308594, 0.103515625, 0.25585938, -0.18261719, -0.14355469, -0.099121094, 0.23046875, -0.041259766, -0.4375, 0.060302734, 0.06933594, -0.31445312, 0.061767578, 0.38867188, 0.115722656, -0.21875, -0.16015625, -0.17773438, 0.03466797, -0.061035156, 0.22460938, -0.019897461, 0.04663086, -0.17285156, 0.059326172, -0.23144531, -0.29101562, -0.026611328, 0.06225586, 0.23632812, 0.26171875, 0.041503906, -0.14355469, -0.11328125, 0.15527344, 0.018066406, 0.24316406, 0.052001953, 0.15234375, 0.07470703, -0.3046875, -0.16308594, -0.28710938, -0.18457031, -0.11425781, -0.21386719, -0.008056641, 0.015197754, -0.15429688, -0.25585938, 0.0012741089, -0.07421875, 0.13085938, 0.34960938, 0.20507812, 0.171875, -0.15429688, 0.27734375, 0.08984375, -0.07519531, 0.040771484, -0.016967773, 0.10205078, -0.03466797, -0.076660156, 0.009399414, -0.5234375, -0.08105469, -0.20019531, -0.02746582, -0.01940918, 0.0099487305, 0.33007812, -0.18847656, -0.040771484, 0.059570312, 0.17480469, -0.07373047, 0.018432617, 0.028442383, -0.06542969, 0.21289062, 0.24023438, -0.038330078, 0.25195312, -0.21972656, 0.14746094, -0.07714844, -0.030151367, 0.08984375, -0.01977539, 0.18164062, -0.16308594, -0.20996094, -0.19140625, -0.071777344, 0.15820312, 0.079589844, 0.075683594, 0.1796875, 0.021728516, -0.064453125, 0.19824219, -0.15917969, 0.234375, 0.25976562, 0.03173828, -0.26367188, 0.00680542, 0.17480469, -0.22949219, -0.017089844, -0.037597656, 0.068847656, 0.03857422, -0.09375, -0.044921875, -0.3359375, -0.14355469, 0.22070312, -0.053222656, -0.016967773, 0.067871094, 0.0011444092, 0.111816406, 0.12402344, 0.26757812, -0.15234375, -0.15429688, -0.25390625, -0.12792969, 0.203125, -0.20019531, -0.14941406, 0.11425781, -0.19921875, 0.25585938, -0.025878906, 0.100097656, 0.057861328, -0.15820312, 0.25585938, 0.30273438, -0.1640625, -0.12792969, 0.047851562, -0.19238281, -0.22558594, 0.014282227, 0.05883789, -0.00046348572, -0.14160156, 0.09472656, 0.06640625, 0.17480469, 0.17480469, -0.07080078, 0.4140625, -0.0546875, 0.099121094, 0.28125, -0.15429688, 0.011169434, 0.123046875, -0.19238281, 0.39257812, -0.11279297, 0.14941406, 0.0036315918, 0.01977539, -0.1875, 0.06347656, 0.18554688, -0.103515625, 0.06640625, 0.17773438, -0.0030517578, 0.0625, -0.049072266, 0.026123047, -0.11425781, -0.052246094, -0.0046691895, -0.00793457, -0.1640625, 0.036132812, 0.040039062, 0.3359375, 0.021606445, 0.23242188, 0.013244629, -0.060302734, -0.111816406, -0.095214844, -0.02355957, -0.2734375, 0.2734375, 0.036132812, 0.1484375, -0.002456665, 0.087890625, -0.17675781, -0.26953125, -0.055664062, 0.029541016, -0.106933594, 0.026000977, 0.0074768066, 0.14257812, 0.021972656, -0.22070312, -0.05102539, -0.15917969, 0.034179688, 0.091796875]],\n",
        "    n_results=1\n",
        ")"
      ],
      "metadata": {
        "colab": {
          "base_uri": "https://localhost:8080/"
        },
        "id": "deA3RFpT92YP",
        "outputId": "a1431366-4afe-40b4-a3a6-c1e187a6427e"
      },
      "execution_count": 125,
      "outputs": [
        {
          "output_type": "execute_result",
          "data": {
            "text/plain": [
              "{'ids': [['video-1-sentence-0']],\n",
              " 'distances': [[0.0]],\n",
              " 'metadatas': [[None]],\n",
              " 'embeddings': None,\n",
              " 'documents': [[None]],\n",
              " 'uris': None,\n",
              " 'data': None}"
            ]
          },
          "metadata": {},
          "execution_count": 125
        }
      ]
    }
  ]
}