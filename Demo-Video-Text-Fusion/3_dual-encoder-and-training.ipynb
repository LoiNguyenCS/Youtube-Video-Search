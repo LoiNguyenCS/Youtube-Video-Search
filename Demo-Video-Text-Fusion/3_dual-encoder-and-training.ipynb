{
 "cells": [
  {
   "cell_type": "code",
   "execution_count": 100,
   "metadata": {},
   "outputs": [],
   "source": [
    "from glob import glob\n",
    "import pandas as pd\n",
    "import numpy as np\n",
    "import matplotlib.pyplot as plt\n",
    "import torch\n",
    "import torch.nn as nn\n",
    "import torch.optim as optim\n",
    "from torch.utils.data import Dataset, DataLoader\n",
    "from sklearn.preprocessing import StandardScaler"
   ]
  },
  {
   "cell_type": "markdown",
   "metadata": {},
   "source": [
    "### Load previously generated embedding csv files"
   ]
  },
  {
   "cell_type": "code",
   "execution_count": 81,
   "metadata": {},
   "outputs": [],
   "source": [
    "def process_csv_files(embedding_folder, has_header=True, skip_first_column=False):\n",
    "    csv_files = glob(embedding_folder + '/*.csv')\n",
    "    all_embeddings = []\n",
    "\n",
    "    for csv_file in csv_files:\n",
    "                                                                    # Read the CSV file\n",
    "        embeddings_df = pd.read_csv(csv_file, header=0 if has_header else None)\n",
    "        \n",
    "        if skip_first_column:                                       # Skip the first column for video csv files\n",
    "            embeddings_df = embeddings_df.iloc[:, 1:]               # because it contains the name of video frame\n",
    "\n",
    "    \n",
    "        embeddings_array = embeddings_df.astype(np.float64).values  # Convert all elements to numpy.float64\n",
    "                                                                    # Remove rows with NaN values\n",
    "        embeddings_array = embeddings_array[~np.isnan(embeddings_array).any(axis=1)]\n",
    "        all_embeddings.append(embeddings_array)                     # Append the NumPy array to the list\n",
    "        \n",
    "\n",
    "    # Concatenate all embeddings into a single NumPy array\n",
    "    embeddings_array = np.concatenate(all_embeddings, axis=0)\n",
    "\n",
    "    return embeddings_array\n",
    "\n",
    "text_embedding_folder = 'DATASET-TextEmbedding'\n",
    "vid_embedding_folder = 'DATASET-VideoEmbeddings'\n",
    "\n",
    "text_embeddings = process_csv_files(text_embedding_folder, has_header=False)\n",
    "video_embeddings = process_csv_files(vid_embedding_folder, has_header=True, skip_first_column=True)\n"
   ]
  },
  {
   "cell_type": "code",
   "execution_count": 82,
   "metadata": {},
   "outputs": [
    {
     "name": "stdout",
     "output_type": "stream",
     "text": [
      "[[-0.33789062  0.19824219 -0.296875   ... -0.15917969  0.03417969\n",
      "   0.09179688]\n",
      " [-0.28710938  0.29296875 -0.04467773 ... -0.01049805 -0.25976562\n",
      "   0.11083984]\n",
      " [-0.06933594  0.15332031 -0.02490234 ...  0.06054688 -0.19238281\n",
      "   0.27148438]\n",
      " ...\n",
      " [-0.01116943  0.06738281  0.13867188 ...  0.18066406 -0.23730469\n",
      "  -0.17578125]\n",
      " [-0.08251953  0.12988281  0.18945312 ...  0.18164062  0.03271484\n",
      "  -0.09472656]\n",
      " [-0.0279541   0.03369141 -0.03027344 ...  0.13574219 -0.0004921\n",
      "   0.26171875]]\n",
      "[[0.96737421 0.94864553 0.93027443 ... 0.88816762 1.02650452 0.98235989]\n",
      " [0.97024786 0.97135627 0.97625911 ... 0.92484605 1.05267894 0.94103754]\n",
      " [0.95929432 0.97145921 0.97567111 ... 0.93477076 1.09334481 0.89381284]\n",
      " ...\n",
      " [0.87987137 0.9994846  1.00720835 ... 0.91209149 1.10154176 0.98179394]\n",
      " [0.86699724 1.04539263 0.90224159 ... 0.91217023 1.14227533 0.93422842]\n",
      " [0.8895027  0.96568727 0.93459833 ... 0.89999688 1.05757153 0.93650216]]\n"
     ]
    }
   ],
   "source": [
    "print(text_embeddings)\n",
    "print(video_embeddings)"
   ]
  },
  {
   "cell_type": "code",
   "execution_count": 83,
   "metadata": {},
   "outputs": [
    {
     "name": "stdout",
     "output_type": "stream",
     "text": [
      "Data Types in video_embeddings: {<class 'numpy.float64'>}\n"
     ]
    }
   ],
   "source": [
    "# Check data types in the video_embeddings array\n",
    "print(\"Data Types in video_embeddings:\", set(type(item) for row in video_embeddings for item in row))"
   ]
  },
  {
   "cell_type": "markdown",
   "metadata": {},
   "source": [
    "### Pre-processing"
   ]
  },
  {
   "cell_type": "markdown",
   "metadata": {},
   "source": [
    "##### **Note:** \n",
    "Even though calling fit_transform separately for text and video embeddings because it could lead to normalization based on different statistics for each set, since the embedding dimensions are not initially equal the image embeddings needs to be processed separately."
   ]
  },
  {
   "cell_type": "code",
   "execution_count": 84,
   "metadata": {},
   "outputs": [
    {
     "name": "stdout",
     "output_type": "stream",
     "text": [
      "------------------------------------------------------------------------------\n",
      "This indicates that there are 50 videos, 117987 sentences and each frame is\n",
      "represented by a 512-dimensional embedding\n",
      "text_embeddings.shape:              (117987, 300)\n",
      "text_embeddings_normalized.shape:   (117987, 300)\n",
      "text_embeddings_normalized_tensor:  torch.Size([117987, 300])\n",
      "------------------------------------------------------------------------------\n",
      "------------------------------------------------------------------------------\n",
      "This indicates that there are 50 videos, 11000 frames and each frame is\n",
      "represented by a 512-dimensional embedding\n",
      "video_embeddings.shape:              (11000, 512)\n",
      "video_embeddings_reshaped.shape:     (50, 220, 512)\n",
      "video_embeddings_normalized_tensor:  torch.Size([50, 300])\n",
      "------------------------------------------------------------------------------\n"
     ]
    }
   ],
   "source": [
    "# Normalize the text embeddings -----------------------------\n",
    "scaler_text = StandardScaler()\n",
    "text_embeddings_normalized = scaler_text.fit_transform(text_embeddings)\n",
    "\n",
    "# Normalize the video embedding ------------------------------\n",
    "# video_embeddings.shape is (11000, 512)\n",
    "# now we will aggregate frame embeddings into video embeddings\n",
    "\n",
    "# Reshape video embeddings to (num_videos, num_frames_per_video, video_embedding_dim)\n",
    "num_videos = 50\n",
    "num_frames_per_video = 220\n",
    "video_embedding_dim = 512\n",
    "video_embeddings_reshaped = video_embeddings.reshape(num_videos, num_frames_per_video, video_embedding_dim)\n",
    "video_embeddings_aggregated = np.mean(video_embeddings_reshaped, axis=1)\n",
    "scaler_video = StandardScaler()\n",
    "video_embeddings_normalized = scaler_video.fit_transform(video_embeddings_aggregated)\n",
    "\n",
    "# Ensure same dimensionality ---------------------------------\n",
    "# Find the minimum dimensionality among text and video embeddings and trim embeddings to the minimum dimensionality\n",
    "min_dim = min(text_embeddings_normalized.shape[1], video_embeddings_normalized.shape[1])\n",
    "text_embeddings_normalized = text_embeddings_normalized[:, :min_dim]\n",
    "video_embeddings_normalized = video_embeddings_normalized[:, :min_dim]\n",
    "\n",
    "# Convert normalized NumPy array back to PyTorch tensor\n",
    "text_embeddings_normalized_tensor = torch.tensor(text_embeddings_normalized, dtype=torch.float32)\n",
    "print(\"------------------------------------------------------------------------------\")\n",
    "print(\"This indicates that there are 50 videos,\", len(text_embeddings),\"sentences and each frame is\\nrepresented by a 512-dimensional embedding\" )\n",
    "print(\"text_embeddings.shape:             \",text_embeddings.shape)\n",
    "print(\"text_embeddings_normalized.shape:  \",text_embeddings_normalized.shape)\n",
    "print(\"text_embeddings_normalized_tensor: \",text_embeddings_normalized_tensor.shape)\n",
    "print(\"------------------------------------------------------------------------------\")\n",
    "\n",
    "# Convert normalized NumPy array back to PyTorch tensor\n",
    "video_embeddings_normalized_tensor = torch.tensor(video_embeddings_normalized, dtype=torch.float32)\n",
    "print(\"------------------------------------------------------------------------------\")\n",
    "print(\"This indicates that there are 50 videos, 11000 frames and each frame is\\nrepresented by a 512-dimensional embedding\" )\n",
    "print(\"video_embeddings.shape:             \",video_embeddings.shape)\n",
    "print(\"video_embeddings_reshaped.shape:    \",video_embeddings_reshaped.shape)\n",
    "print(\"video_embeddings_normalized_tensor: \",video_embeddings_normalized_tensor.shape)\n",
    "print(\"------------------------------------------------------------------------------\")\n"
   ]
  },
  {
   "cell_type": "markdown",
   "metadata": {},
   "source": [
    "##### **Check if dimensions of subtitle embeddings match the dimensions of video embeddings**"
   ]
  },
  {
   "cell_type": "code",
   "execution_count": 85,
   "metadata": {},
   "outputs": [
    {
     "data": {
      "text/plain": [
       "True"
      ]
     },
     "execution_count": 85,
     "metadata": {},
     "output_type": "execute_result"
    }
   ],
   "source": [
    "text_embeddings_normalized_tensor.shape[1] == video_embeddings_normalized_tensor.shape[1] "
   ]
  },
  {
   "cell_type": "markdown",
   "metadata": {},
   "source": [
    "### Text and Vision Encoder"
   ]
  },
  {
   "cell_type": "code",
   "execution_count": 86,
   "metadata": {},
   "outputs": [],
   "source": [
    "class ProjectionHead(nn.Module):\n",
    "    def __init__(self, input_dim, projection_dim, num_layers=2, dropout_rate=0.1):\n",
    "        super(ProjectionHead, self).__init__()\n",
    "        layers = []\n",
    "        layers.append(nn.Linear(input_dim, projection_dim))\n",
    "        for _ in range(num_layers):\n",
    "            layers.extend([nn.ReLU(), nn.Linear(projection_dim, projection_dim), nn.Dropout(dropout_rate)])\n",
    "        self.projection = nn.Sequential(*layers)\n",
    "\n",
    "    def forward(self, x):\n",
    "        return self.projection(x)\n",
    "\n",
    "class VisionEncoder(nn.Module):\n",
    "    def __init__(self, input_channels, projection_dim):\n",
    "        super(VisionEncoder, self).__init__()\n",
    "        self.fc_layers = nn.Sequential(\n",
    "            nn.Linear(input_channels, 256),\n",
    "            nn.ReLU(),\n",
    "            nn.Linear(256, 128),\n",
    "            nn.ReLU(),\n",
    "            nn.Linear(128, projection_dim),\n",
    "        )\n",
    "\n",
    "    def forward(self, x):\n",
    "        x = self.fc_layers(x)\n",
    "        return x\n",
    "\n",
    "class TextEncoder(nn.Module):\n",
    "    def __init__(self, input_dim, projection_dim):\n",
    "        super(TextEncoder, self).__init__()\n",
    "        self.fc_layers = nn.Sequential(\n",
    "            nn.Linear(input_dim, 256),\n",
    "            nn.ReLU(),\n",
    "            nn.Linear(256, 128),\n",
    "            nn.ReLU(),\n",
    "            nn.Linear(128, projection_dim),\n",
    "        )\n",
    "\n",
    "    def forward(self, x):\n",
    "        x = self.fc_layers(x)\n",
    "        return x"
   ]
  },
  {
   "cell_type": "markdown",
   "metadata": {},
   "source": [
    "### Create PyTorch Dataset of Text and Video Embeddings"
   ]
  },
  {
   "cell_type": "code",
   "execution_count": 88,
   "metadata": {},
   "outputs": [],
   "source": [
    "class EmbeddingsDataset(Dataset):\n",
    "    def __init__(self, video_embeddings, text_embeddings):\n",
    "        self.video_embeddings = video_embeddings\n",
    "        self.text_embeddings = text_embeddings\n",
    "\n",
    "    def __len__(self):\n",
    "        return len(self.video_embeddings)\n",
    "\n",
    "    def __getitem__(self, idx):\n",
    "        video_embedding = self.video_embeddings[idx]\n",
    "        text_embedding = self.text_embeddings[idx]\n",
    "\n",
    "        return {'video_embedding': video_embedding, 'text_embedding': text_embedding}\n"
   ]
  },
  {
   "cell_type": "markdown",
   "metadata": {},
   "source": [
    "### PyTorch implementation of the dual encoder"
   ]
  },
  {
   "cell_type": "code",
   "execution_count": 90,
   "metadata": {},
   "outputs": [],
   "source": [
    "class DualEncoder(nn.Module):\n",
    "    def __init__(self, text_encoder, vision_encoder, temperature=1.0):\n",
    "        super(DualEncoder, self).__init__()\n",
    "        self.text_encoder = text_encoder\n",
    "        self.vision_encoder = vision_encoder\n",
    "        self.temperature = temperature\n",
    "        self.loss_criterion = nn.CrossEntropyLoss()\n",
    "\n",
    "    def forward(self, captions, images):\n",
    "        # Get the embeddings\n",
    "        caption_embeddings = self.text_encoder(captions)\n",
    "        image_embeddings = self.vision_encoder(images)\n",
    "        return caption_embeddings, image_embeddings\n",
    "\n",
    "    def compute_loss(self, caption_embeddings, image_embeddings):\n",
    "        # Calculate dot-product similarity for captions and images.\n",
    "        logits = torch.matmul(caption_embeddings, image_embeddings.t()) / self.temperature\n",
    "        captions_similarity = torch.matmul(caption_embeddings, caption_embeddings.t())\n",
    "        images_similarity = torch.matmul(image_embeddings, image_embeddings.t())\n",
    "        # Targets: average of similarities between captions and images.\n",
    "        targets = torch.nn.functional.softmax(\n",
    "            (captions_similarity + images_similarity) / (2 * self.temperature), dim=1\n",
    "        )\n",
    "        # Compute the loss using crossentropy.\n",
    "        captions_loss = self.loss_criterion(logits, torch.argmax(targets, dim=1))\n",
    "        images_loss = self.loss_criterion(logits.t(), torch.argmax(targets, dim=0))\n",
    "        # Return the mean of the loss over the batch.\n",
    "        return (captions_loss + images_loss) / 2\n",
    "\n",
    "    def training_step(self, captions, images):\n",
    "        # Forward pass\n",
    "        caption_embeddings, image_embeddings = self(captions, images)\n",
    "        loss = self.compute_loss(caption_embeddings, image_embeddings)\n",
    "        return loss\n",
    "\n",
    "    def validation_step(self, captions, images):\n",
    "        caption_embeddings, image_embeddings = self(captions, images)\n",
    "        loss = self.compute_loss(caption_embeddings, image_embeddings)\n",
    "        return loss\n"
   ]
  },
  {
   "cell_type": "markdown",
   "metadata": {},
   "source": [
    "### Train the model\n",
    "#### 1. Create Vision and Text Encoders\n",
    "These encoders are responsible for transforming the input data (video frames and text) into a shared embedding space.\n",
    "#### 2. Create DataLoader\n",
    "Prepare data to iterate over batches of paired video and text embeddings. Each batch should contain corresponding video and text embeddings that you want to train on\n",
    "#### 3. Instantiate Dual Encoder\n",
    "This model takes the output embeddings from the VisionEncoder and TextEncoder and computes the loss based on the similarity between the embeddings.\n",
    "#### 4. Training Loop\n",
    "Iterates through DataLoader batches and train the Dual Encoder. In each iteration, video and text embeddings are passed through the VisionEncoder and TextEncoder, respectively. Then, these embeddings are fed to the Dual Encoder and compute the loss. Finally, backpropagate the gradients and update the model parameters."
   ]
  },
  {
   "cell_type": "markdown",
   "metadata": {},
   "source": [
    "#### Simple training and evaluation & Loss over epoch graph"
   ]
  },
  {
   "cell_type": "code",
   "execution_count": 97,
   "metadata": {},
   "outputs": [],
   "source": [
    "# Instantiate DataLoader to iterate over batches\n",
    "video_embeddings_normalized_tensor = torch.rand((32, 300))\n",
    "text_embeddings_normalized_tensor = torch.rand((32, 300))\n",
    "embeddings_dataset = EmbeddingsDataset(video_embeddings_normalized_tensor, text_embeddings_normalized_tensor)\n",
    "dataloader = DataLoader(embeddings_dataset, batch_size=32, shuffle=True)\n",
    "\n",
    "# Instantiate VisionEncoder, TextEncoder\n",
    "vision_encoder = VisionEncoder(input_channels=300, projection_dim=512)\n",
    "text_encoder = TextEncoder(input_dim=300, projection_dim=512)\n",
    "dual_encoder = DualEncoder(text_encoder, vision_encoder, temperature=1.0)"
   ]
  },
  {
   "cell_type": "code",
   "execution_count": 98,
   "metadata": {},
   "outputs": [
    {
     "name": "stdout",
     "output_type": "stream",
     "text": [
      "Epoch [1/10], Loss: 0.8642113208770752\n",
      "Epoch [2/10], Loss: 0.3001125454902649\n",
      "Epoch [3/10], Loss: 1.562559723854065\n",
      "Epoch [4/10], Loss: 1.7220237255096436\n",
      "Epoch [5/10], Loss: 1.6792937517166138\n",
      "Epoch [6/10], Loss: 1.6742491722106934\n",
      "Epoch [7/10], Loss: 1.6865609884262085\n",
      "Epoch [8/10], Loss: 1.7235586643218994\n",
      "Epoch [9/10], Loss: 1.6876660585403442\n",
      "Epoch [10/10], Loss: 1.6301881074905396\n"
     ]
    }
   ],
   "source": [
    "# Training loop\n",
    "optimizer = torch.optim.Adam(dual_encoder.parameters(), lr=0.001)\n",
    "num_epochs = 10\n",
    "\n",
    "# Lists to store training losses\n",
    "train_losses = []\n",
    "\n",
    "for epoch in range(num_epochs):\n",
    "    epoch_losses = []\n",
    "\n",
    "    for batch in dataloader:\n",
    "        captions, images = batch['text_embedding'], batch['video_embedding']\n",
    "        optimizer.zero_grad()\n",
    "        # Forward pass\n",
    "        caption_embeddings, image_embeddings = dual_encoder(captions, images)\n",
    "        # Compute loss and backward pass\n",
    "        loss = dual_encoder.compute_loss(caption_embeddings, image_embeddings)\n",
    "        loss.backward()\n",
    "        optimizer.step()\n",
    "\n",
    "        epoch_losses.append(loss.item())\n",
    "\n",
    "    # Calculate and store the average loss for the epoch\n",
    "    avg_epoch_loss = sum(epoch_losses) / len(epoch_losses)\n",
    "    train_losses.append(avg_epoch_loss)\n",
    "\n",
    "    print(f\"Epoch [{epoch+1}/{num_epochs}], Loss: {avg_epoch_loss}\")"
   ]
  },
  {
   "cell_type": "code",
   "execution_count": 101,
   "metadata": {},
   "outputs": [
    {
     "data": {
      "image/png": "[encoded data removed]",
      "text/plain": [
       "<Figure size 640x480 with 1 Axes>"
      ]
     },
     "metadata": {},
     "output_type": "display_data"
    }
   ],
   "source": [
    "plt.plot(range(1, num_epochs + 1), train_losses, label='Training Loss')\n",
    "plt.xlabel('Epochs')\n",
    "plt.ylabel('Loss')\n",
    "plt.title('Training Loss vs Epochs')\n",
    "plt.legend()\n",
    "plt.show()"
   ]
  },
  {
   "cell_type": "markdown",
   "metadata": {},
   "source": [
    "#### Another trial to compare loss over epochs between training and validation set"
   ]
  },
  {
   "cell_type": "code",
   "execution_count": 102,
   "metadata": {},
   "outputs": [],
   "source": [
    "from torch.utils.data.dataset import random_split"
   ]
  },
  {
   "cell_type": "code",
   "execution_count": 103,
   "metadata": {},
   "outputs": [],
   "source": [
    "video_embeddings_normalized_tensor = torch.rand((1000, 300))\n",
    "text_embeddings_normalized_tensor = torch.rand((1000, 300))\n",
    "\n",
    "# Split the dataset into training and validation sets\n",
    "total_samples = len(video_embeddings_normalized_tensor)\n",
    "train_size = int(0.8 * total_samples)\n",
    "val_size = total_samples - train_size\n",
    "train_dataset, val_dataset = random_split(\n",
    "    EmbeddingsDataset(video_embeddings_normalized_tensor, text_embeddings_normalized_tensor),\n",
    "    [train_size, val_size]\n",
    ")\n",
    "\n",
    "# DataLoader for training and validation\n",
    "train_dataloader = DataLoader(train_dataset, batch_size=32, shuffle=True)\n",
    "val_dataloader = DataLoader(val_dataset, batch_size=32, shuffle=False)\n",
    "\n",
    "# Instantiate VisionEncoder, TextEncoder\n",
    "vision_encoder = VisionEncoder(input_channels=300, projection_dim=512)\n",
    "text_encoder = TextEncoder(input_dim=300, projection_dim=512)\n",
    "dual_encoder = DualEncoder(text_encoder, vision_encoder, temperature=1.0)\n"
   ]
  },
  {
   "cell_type": "code",
   "execution_count": 104,
   "metadata": {},
   "outputs": [
    {
     "name": "stdout",
     "output_type": "stream",
     "text": [
      "Epoch [1/10], Train Loss: 3.4648705291748048, Val Loss: 3.1572892665863037\n",
      "Epoch [2/10], Train Loss: 3.2812914514541625, Val Loss: 3.5083357266017368\n",
      "Epoch [3/10], Train Loss: 3.324400863647461, Val Loss: 2.6705634083066667\n",
      "Epoch [4/10], Train Loss: 2.2563497114181517, Val Loss: 2.5431813171931674\n",
      "Epoch [5/10], Train Loss: 1.9694515371322632, Val Loss: 2.2953215667179654\n",
      "Epoch [6/10], Train Loss: 2.0031726455688474, Val Loss: 2.2194624628339494\n",
      "Epoch [7/10], Train Loss: 1.9146224975585937, Val Loss: 1.8846782786505563\n",
      "Epoch [8/10], Train Loss: 1.6500506567955018, Val Loss: 2.1423008101327077\n",
      "Epoch [9/10], Train Loss: 1.4537867856025697, Val Loss: 2.274964758328029\n",
      "Epoch [10/10], Train Loss: 1.4075294345617295, Val Loss: 1.815359047480992\n"
     ]
    }
   ],
   "source": [
    "# Training loop\n",
    "optimizer = torch.optim.Adam(dual_encoder.parameters(), lr=0.001)\n",
    "num_epochs = 10\n",
    "\n",
    "# Lists to store training and validation losses\n",
    "train_losses = []\n",
    "val_losses = []\n",
    "\n",
    "for epoch in range(num_epochs):\n",
    "    epoch_train_losses = []\n",
    "    epoch_val_losses = []\n",
    "\n",
    "    # Training\n",
    "    dual_encoder.train()\n",
    "    for batch in train_dataloader:\n",
    "        captions, images = batch['text_embedding'], batch['video_embedding']\n",
    "        optimizer.zero_grad()\n",
    "        caption_embeddings, image_embeddings = dual_encoder(captions, images)\n",
    "        loss = dual_encoder.compute_loss(caption_embeddings, image_embeddings)\n",
    "        loss.backward()\n",
    "        optimizer.step()\n",
    "        epoch_train_losses.append(loss.item())\n",
    "\n",
    "    # Validation\n",
    "    dual_encoder.eval()\n",
    "    with torch.no_grad():\n",
    "        for batch in val_dataloader:\n",
    "            captions, images = batch['text_embedding'], batch['video_embedding']\n",
    "            caption_embeddings, image_embeddings = dual_encoder(captions, images)\n",
    "            loss = dual_encoder.compute_loss(caption_embeddings, image_embeddings)\n",
    "            epoch_val_losses.append(loss.item())\n",
    "\n",
    "    # Calculate and store the average loss for the epoch\n",
    "    avg_epoch_train_loss = sum(epoch_train_losses) / len(epoch_train_losses)\n",
    "    avg_epoch_val_loss = sum(epoch_val_losses) / len(epoch_val_losses)\n",
    "    train_losses.append(avg_epoch_train_loss)\n",
    "    val_losses.append(avg_epoch_val_loss)\n",
    "\n",
    "    print(f\"Epoch [{epoch+1}/{num_epochs}], Train Loss: {avg_epoch_train_loss}, Val Loss: {avg_epoch_val_loss}\")\n"
   ]
  },
  {
   "cell_type": "code",
   "execution_count": 105,
   "metadata": {},
   "outputs": [
    {
     "data": {
      "image/png": "[encoded data removed]",
      "text/plain": [
       "<Figure size 640x480 with 1 Axes>"
      ]
     },
     "metadata": {},
     "output_type": "display_data"
    }
   ],
   "source": [
    "# Plot the loss graph\n",
    "plt.plot(range(1, num_epochs+1), train_losses, label='Train Loss')\n",
    "plt.plot(range(1, num_epochs+1), val_losses, label='Validation Loss')\n",
    "plt.xlabel('Epochs')\n",
    "plt.ylabel('Loss')\n",
    "plt.legend()\n",
    "plt.show()"
   ]
  }
 ],
 "metadata": {
  "kernelspec": {
   "display_name": "Python 3",
   "language": "python",
   "name": "python3"
  },
  "language_info": {
   "codemirror_mode": {
    "name": "ipython",
    "version": 3
   },
   "file_extension": ".py",
   "mimetype": "text/x-python",
   "name": "python",
   "nbconvert_exporter": "python",
   "pygments_lexer": "ipython3",
   "version": "3.10.0"
  }
 },
 "nbformat": 4,
 "nbformat_minor": 2
}
