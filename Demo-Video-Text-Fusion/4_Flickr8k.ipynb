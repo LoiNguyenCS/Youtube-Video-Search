{
 "cells": [
  {
   "cell_type": "code",
   "execution_count": 32,
   "metadata": {},
   "outputs": [],
   "source": [
    "from glob import glob\n",
    "import pandas as pd\n",
    "import numpy as np\n",
    "import chromadb\n",
    "import matplotlib.pyplot as plt\n",
    "import torch\n",
    "import torch.nn as nn\n",
    "import torch.optim as optim\n",
    "from torch.utils.data import Dataset, DataLoader\n",
    "from sklearn.preprocessing import StandardScaler\n",
    "import torchvision.models as models\n",
    "import torchvision.transforms as transforms\n",
    "from PIL import Image\n",
    "import os\n",
    "import csv\n",
    "from tqdm import tqdm"
   ]
  },
  {
   "cell_type": "markdown",
   "metadata": {},
   "source": [
    "### Generate Embeddings from Flickr8k Dataset"
   ]
  },
  {
   "cell_type": "markdown",
   "metadata": {},
   "source": [
    "#### Create image embeddings for all images"
   ]
  },
  {
   "cell_type": "code",
   "execution_count": 3,
   "metadata": {},
   "outputs": [
    {
     "name": "stderr",
     "output_type": "stream",
     "text": [
      "c:\\Users\\thaou\\AppData\\Local\\Programs\\Python\\Python310\\lib\\site-packages\\torchvision\\models\\_utils.py:208: UserWarning: The parameter 'pretrained' is deprecated since 0.13 and may be removed in the future, please use 'weights' instead.\n",
      "  warnings.warn(\n",
      "c:\\Users\\thaou\\AppData\\Local\\Programs\\Python\\Python310\\lib\\site-packages\\torchvision\\models\\_utils.py:223: UserWarning: Arguments other than a weight enum or `None` for 'weights' are deprecated since 0.13 and may be removed in the future. The current behavior is equivalent to passing `weights=ResNet18_Weights.IMAGENET1K_V1`. You can also use `weights=ResNet18_Weights.DEFAULT` to get the most up-to-date weights.\n",
      "  warnings.warn(msg)\n"
     ]
    }
   ],
   "source": [
    "# Load a pre-trained ResNet-18 model\n",
    "resnet18 = models.resnet18(pretrained=True)\n",
    "# Remove the classification layer (the final fully connected layer)\n",
    "encoder = nn.Sequential(*list(resnet18.children())[:-1])\n",
    "\n",
    "# Define a transformation to preprocess the images\n",
    "data_transform = transforms.Compose([\n",
    "    transforms.Resize(256), \n",
    "    transforms.CenterCrop(224),  \n",
    "    transforms.ToTensor(),\n",
    "    transforms.Normalize(mean=[0.485, 0.456, 0.406], std=[0.229, 0.224, 0.225])\n",
    "])"
   ]
  },
  {
   "cell_type": "code",
   "execution_count": 4,
   "metadata": {},
   "outputs": [
    {
     "name": "stderr",
     "output_type": "stream",
     "text": [
      "Processing Images: 100%|██████████| 8091/8091 [12:07<00:00, 11.12it/s]\n"
     ]
    }
   ],
   "source": [
    "dataset_folder = 'DATASET-Flickr8k/Images'\n",
    "embedding_folder = 'DATASET-Flickr8k-Img-Embeddings'\n",
    "\n",
    "# Ensure the embedding folder exists\n",
    "os.makedirs(embedding_folder, exist_ok=True)\n",
    "\n",
    "# Create an empty list to store image embeddings\n",
    "img_feature_list = []\n",
    "\n",
    "# Count the number of files in the folder\n",
    "num_files = len([f for f in os.listdir(dataset_folder) if os.path.isfile(os.path.join(dataset_folder, f))])\n",
    "\n",
    "# Loop over each image in the dataset folder with a progress bar\n",
    "for filename in tqdm(os.listdir(dataset_folder), total=num_files, desc=\"Processing Images\"):\n",
    "    if filename.endswith(('.jpg', '.jpeg', '.png')):\n",
    "        # Construct the image path\n",
    "        image_path = os.path.join(dataset_folder, filename)\n",
    "\n",
    "        # Load and preprocess the image\n",
    "        image = Image.open(image_path).convert(\"RGB\")\n",
    "        image = data_transform(image)\n",
    "\n",
    "        # Encode the image\n",
    "        with torch.no_grad():\n",
    "            feature_vector = encoder(image.unsqueeze(0))\n",
    "\n",
    "        # Flatten the tensor and convert to NumPy array\n",
    "        flat_vector = feature_vector.view(-1).numpy()\n",
    "\n",
    "        # Append the filename and feature vector tuple to the list\n",
    "        img_feature_list.append((filename, *flat_vector))"
   ]
  },
  {
   "cell_type": "code",
   "execution_count": 5,
   "metadata": {},
   "outputs": [
    {
     "name": "stdout",
     "output_type": "stream",
     "text": [
      "Embeddings saved to DATASET-Flickr8kEmbeddings\\flickr8k_image_embeddings.csv\n"
     ]
    }
   ],
   "source": [
    "# Save the embeddings to a CSV file\n",
    "csv_filename = os.path.join(embedding_folder, 'flickr8k_image_embeddings.csv')\n",
    "with open(csv_filename, 'w', newline='') as csvfile:\n",
    "    csv_writer = csv.writer(csvfile)\n",
    "    # Write header\n",
    "    header = ['Filename'] + [f'Feature_{i}' for i in range(len(flat_vector))]\n",
    "    csv_writer.writerow(header)\n",
    "    # Write data\n",
    "    csv_writer.writerows(img_feature_list)\n",
    "\n",
    "print(f\"Embeddings saved to {csv_filename}\")"
   ]
  },
  {
   "cell_type": "markdown",
   "metadata": {},
   "source": [
    "#### Create text embeddings for all captions"
   ]
  },
  {
   "cell_type": "code",
   "execution_count": 11,
   "metadata": {},
   "outputs": [],
   "source": [
    "# Initialize ChromaDB\n",
    "client = chromadb.Client()\n",
    "collection_name = \"caption_embeddings\"\n",
    "\n",
    "# Delete the collection if it already exists to avoid errors\n",
    "# client.delete_collection(collection_name)\n",
    "\n",
    "# Create a new collection\n",
    "collection = client.create_collection(collection_name)\n",
    "\n",
    "# Folder containing Flickr8k Text Embeddings CSV files\n",
    "folder_path = 'DATASET-Flickr8k-Img-Embeddings'"
   ]
  },
  {
   "cell_type": "code",
   "execution_count": null,
   "metadata": {},
   "outputs": [],
   "source": [
    "for filename in os.listdir(folder_path):\n",
    "    if filename.endswith(\".csv\"):\n",
    "        file_path = os.path.join(folder_path, filename)\n",
    "\n",
    "        # Load the CSV file into a DataFrame\n",
    "        df = pd.read_csv(file_path, header=None)\n",
    "        \n",
    "        # Extract caption_id from the filename \n",
    "        caption_id = filename.split('_')[0]\n",
    "\n",
    "        # Each row contains embedding vectors of a caption\n",
    "        for index, row in df.iterrows():\n",
    "            if len(row) > 0:\n",
    "                embeddings_array = np.array(row.values).tolist()\n",
    "                sentence_id = f\"Sentence_{index}\"\n",
    "\n",
    "                # Add embeddings to the collection\n",
    "                collection.add(embeddings=[embeddings_array],\n",
    "                               ids=[f'{caption_id}-{sentence_id}'])\n",
    "\n",
    "# Retrieve and print the contents of the collection\n",
    "collection = client.get_collection(collection_name)\n",
    "print(collection.get())"
   ]
  },
  {
   "cell_type": "code",
   "execution_count": null,
   "metadata": {},
   "outputs": [],
   "source": [
    "# Save the collection\n",
    "client = chromadb.PersistentClient(path=\"Chromadb-Collection\")"
   ]
  },
  {
   "cell_type": "markdown",
   "metadata": {},
   "source": [
    "### Load Flickr8K Dataset"
   ]
  },
  {
   "cell_type": "markdown",
   "metadata": {},
   "source": [
    "Concatenate all embeddings into a single NumPy array"
   ]
  },
  {
   "cell_type": "code",
   "execution_count": 14,
   "metadata": {},
   "outputs": [],
   "source": [
    "def process_csv_files(embedding_folder, has_header=True, skip_first_column=False):\n",
    "    csv_files = glob(embedding_folder + '/*.csv')\n",
    "    all_embeddings = []\n",
    "\n",
    "    for csv_file in csv_files:\n",
    "                                                                    # Read the CSV file\n",
    "        embeddings_df = pd.read_csv(csv_file, header=0 if has_header else None)\n",
    "        \n",
    "        if skip_first_column:                                       # Skip the first column for video csv files\n",
    "            embeddings_df = embeddings_df.iloc[:, 1:]               # because it contains the name of video frame\n",
    "\n",
    "    \n",
    "        embeddings_array = embeddings_df.astype(np.float64).values  # Convert all elements to numpy.float64\n",
    "                                                                    # Remove rows with NaN values\n",
    "        embeddings_array = embeddings_array[~np.isnan(embeddings_array).any(axis=1)]\n",
    "        all_embeddings.append(embeddings_array)                     # Append the NumPy array to the list\n",
    "        \n",
    "\n",
    "    # Concatenate all embeddings into a single NumPy array\n",
    "    embeddings_array = np.concatenate(all_embeddings, axis=0)\n",
    "\n",
    "    return embeddings_array\n"
   ]
  },
  {
   "cell_type": "code",
   "execution_count": 15,
   "metadata": {},
   "outputs": [
    {
     "name": "stdout",
     "output_type": "stream",
     "text": [
      "[[0.90512055 0.99906915 0.9146847  ... 0.90225774 1.087199   1.0167476 ]\n",
      " [0.84700495 0.9211991  0.97732145 ... 0.83345467 0.9408302  0.98860836]\n",
      " [0.94614327 0.9429792  0.91534483 ... 0.89839077 1.0792063  0.9620709 ]\n",
      " ...\n",
      " [0.8720677  0.9208743  0.85512817 ... 0.91363573 1.0566888  1.0121216 ]\n",
      " [0.9431097  0.98371744 0.962219   ... 0.90475065 1.1498048  0.9818486 ]\n",
      " [0.89349157 0.8881252  0.9098636  ... 0.9203147  1.0604336  0.94605654]]\n"
     ]
    }
   ],
   "source": [
    "img_embedding_folder = 'DATASET-Flickr8k-Img-Embeddings'\n",
    "img_embeddings = process_csv_files(img_embedding_folder, has_header=True, skip_first_column=True)\n",
    "print(img_embeddings)"
   ]
  },
  {
   "cell_type": "code",
   "execution_count": 18,
   "metadata": {},
   "outputs": [
    {
     "name": "stdout",
     "output_type": "stream",
     "text": [
      "[[-0.10595703  0.21386719  0.11865234 ...  0.10693359  0.02368164\n",
      "  -0.03540039]\n",
      " [ 0.18945312  0.13671875 -0.09472656 ...  0.07617188  0.01538086\n",
      "  -0.05029297]\n",
      " [ 0.13867188  0.0037384   0.06445312 ... -0.08691406 -0.00897217\n",
      "   0.03759766]\n",
      " ...\n",
      " [-0.10107422  0.02709961 -0.37304688 ...  0.16992188  0.14453125\n",
      "   0.21484375]\n",
      " [-0.06884766  0.15917969  0.02905273 ... -0.36132812 -0.09130859\n",
      "  -0.09570312]\n",
      " [ 0.06640625  0.328125    0.06787109 ... -0.515625   -0.25976562\n",
      "   0.04492188]]\n"
     ]
    }
   ],
   "source": [
    "cap_embedding_folder = 'DATASET-Flickr8k-Txt-Embeddings'\n",
    "cap_embeddings = process_csv_files(cap_embedding_folder, has_header=False)\n",
    "print(cap_embeddings)"
   ]
  },
  {
   "cell_type": "code",
   "execution_count": 19,
   "metadata": {},
   "outputs": [
    {
     "name": "stdout",
     "output_type": "stream",
     "text": [
      "Data Types in img_embeddings: {<class 'numpy.float64'>}\n"
     ]
    }
   ],
   "source": [
    "# Check data types in the video_embeddings array\n",
    "print(\"Data Types in img_embeddings:\", set(type(item) for row in img_embeddings for item in row))"
   ]
  },
  {
   "cell_type": "markdown",
   "metadata": {},
   "source": [
    "### Pre-processing"
   ]
  },
  {
   "cell_type": "markdown",
   "metadata": {},
   "source": [
    "##### **Note:** \n",
    "Even though calling fit_transform separately for text and video embeddings because it could lead to normalization based on different statistics for each set, since the embedding dimensions are not initially equal the image embeddings needs to be processed separately."
   ]
  },
  {
   "cell_type": "code",
   "execution_count": 30,
   "metadata": {},
   "outputs": [],
   "source": [
    "# Normalize the text embeddings -----------------------------\n",
    "scaler_text = StandardScaler()\n",
    "txt_embeddings_normalized = scaler_text.fit_transform(cap_embeddings)\n",
    "# Normalize the image embeddings --------------------------------\n",
    "scaler_image = StandardScaler()\n",
    "image_embeddings_normalized = scaler_image.fit_transform(img_embeddings)\n",
    "\n",
    "# Ensure the same dimensionality ---------------------------------\n",
    "# Find the minimum dimensionality between text and image embeddings\n",
    "min_dim = min(txt_embeddings_normalized.shape[1], image_embeddings_normalized.shape[1])\n",
    "\n",
    "# Trim both embeddings to the minimum dimensionality\n",
    "text_embeddings_normalized = txt_embeddings_normalized[:, :min_dim]\n",
    "image_embeddings_normalized = image_embeddings_normalized[:, :min_dim]\n",
    "\n",
    "# Convert normalized NumPy array back to PyTorch tensor\n",
    "image_embeddings_normalized_tensor = torch.tensor(image_embeddings_normalized, dtype=torch.float32)\n",
    "text_embeddings_normalized_tensor = torch.tensor(txt_embeddings_normalized, dtype=torch.float32)\n"
   ]
  },
  {
   "cell_type": "code",
   "execution_count": 21,
   "metadata": {},
   "outputs": [
    {
     "name": "stdout",
     "output_type": "stream",
     "text": [
      "------------------------------------------------------------------------------\n",
      "This indicates that there are 73377 sentences and each frame is\n",
      "represented by a 512-dimensional embedding\n",
      "text_embeddings.shape:              (73377, 300)\n",
      "text_embeddings_normalized.shape:   (73377, 300)\n",
      "text_embeddings_normalized_tensor:  torch.Size([73377, 300])\n",
      "------------------------------------------------------------------------------\n",
      "This indicates that there are 8091 images and each frame is\n",
      "represented by a 512-dimensional embedding\n",
      "video_embeddings.shape:              (8091, 512)\n",
      "video_embeddings_reshaped.shape:     (8091, 300)\n",
      "video_embeddings_normalized_tensor:  torch.Size([8091, 300])\n",
      "------------------------------------------------------------------------------\n"
     ]
    }
   ],
   "source": [
    "print(\"------------------------------------------------------------------------------\")\n",
    "print(\"This indicates that there are\", len(cap_embeddings),\"sentences and each frame is\\nrepresented by a 512-dimensional embedding\" )\n",
    "print(\"text_embeddings.shape:             \",cap_embeddings.shape)\n",
    "print(\"text_embeddings_normalized.shape:  \",text_embeddings_normalized.shape)\n",
    "print(\"text_embeddings_normalized_tensor: \",text_embeddings_normalized_tensor.shape)\n",
    "print(\"------------------------------------------------------------------------------\")\n",
    "print(\"This indicates that there are 8091 images and each frame is\\nrepresented by a 512-dimensional embedding\" )\n",
    "print(\"video_embeddings.shape:             \",img_embeddings.shape)\n",
    "print(\"video_embeddings_reshaped.shape:    \",image_embeddings_normalized.shape)\n",
    "print(\"video_embeddings_normalized_tensor: \",image_embeddings_normalized_tensor.shape)\n",
    "print(\"------------------------------------------------------------------------------\")"
   ]
  },
  {
   "cell_type": "markdown",
   "metadata": {},
   "source": [
    "##### **Check if dimensions of subtitle embeddings match the dimensions of video embeddings**"
   ]
  },
  {
   "cell_type": "code",
   "execution_count": 22,
   "metadata": {},
   "outputs": [
    {
     "data": {
      "text/plain": [
       "True"
      ]
     },
     "execution_count": 22,
     "metadata": {},
     "output_type": "execute_result"
    }
   ],
   "source": [
    "text_embeddings_normalized_tensor.shape[1] == image_embeddings_normalized_tensor.shape[1] "
   ]
  },
  {
   "cell_type": "markdown",
   "metadata": {},
   "source": [
    "### Text and Vision Encoder"
   ]
  },
  {
   "cell_type": "code",
   "execution_count": 31,
   "metadata": {},
   "outputs": [],
   "source": [
    "class ProjectionHead(nn.Module):\n",
    "    def __init__(self, input_dim, projection_dim, num_layers=2, dropout_rate=0.1):\n",
    "        super(ProjectionHead, self).__init__()\n",
    "        layers = []\n",
    "        layers.append(nn.Linear(input_dim, projection_dim))\n",
    "        for _ in range(num_layers):\n",
    "            layers.extend([nn.ReLU(), nn.Linear(projection_dim, projection_dim), nn.Dropout(dropout_rate)])\n",
    "        self.projection = nn.Sequential(*layers)\n",
    "\n",
    "    def forward(self, x):\n",
    "        return self.projection(x)\n",
    "\n",
    "class VisionEncoder(nn.Module):\n",
    "    def __init__(self, input_channels, projection_dim):\n",
    "        super(VisionEncoder, self).__init__()\n",
    "        self.fc_layers = nn.Sequential(\n",
    "            nn.Linear(input_channels, 256),\n",
    "            nn.ReLU(),\n",
    "            nn.Linear(256, 128),\n",
    "            nn.ReLU(),\n",
    "            nn.Linear(128, projection_dim),\n",
    "        )\n",
    "\n",
    "    def forward(self, x):\n",
    "        x = self.fc_layers(x)\n",
    "        return x\n",
    "\n",
    "class TextEncoder(nn.Module):\n",
    "    def __init__(self, input_dim, projection_dim):\n",
    "        super(TextEncoder, self).__init__()\n",
    "        self.fc_layers = nn.Sequential(\n",
    "            nn.Linear(input_dim, 256),\n",
    "            nn.ReLU(),\n",
    "            nn.Linear(256, 128),\n",
    "            nn.ReLU(),\n",
    "            nn.Linear(128, projection_dim),\n",
    "        )\n",
    "\n",
    "    def forward(self, x):\n",
    "        x = self.fc_layers(x)\n",
    "        return x"
   ]
  },
  {
   "cell_type": "markdown",
   "metadata": {},
   "source": [
    "### Create PyTorch Dataset of Text and Video Embeddings"
   ]
  },
  {
   "cell_type": "code",
   "execution_count": 24,
   "metadata": {},
   "outputs": [],
   "source": [
    "class EmbeddingsDataset(Dataset):\n",
    "    def __init__(self, video_embeddings, text_embeddings):\n",
    "        self.video_embeddings = video_embeddings\n",
    "        self.text_embeddings = text_embeddings\n",
    "\n",
    "    def __len__(self):\n",
    "        return len(self.video_embeddings)\n",
    "\n",
    "    def __getitem__(self, idx):\n",
    "        video_embedding = self.video_embeddings[idx]\n",
    "        text_embedding = self.text_embeddings[idx]\n",
    "\n",
    "        return {'video_embedding': video_embedding, 'text_embedding': text_embedding}\n"
   ]
  },
  {
   "cell_type": "markdown",
   "metadata": {},
   "source": [
    "### PyTorch implementation of the dual encoder"
   ]
  },
  {
   "cell_type": "code",
   "execution_count": 25,
   "metadata": {},
   "outputs": [],
   "source": [
    "class DualEncoder(nn.Module):\n",
    "    def __init__(self, text_encoder, vision_encoder, temperature=1.0):\n",
    "        super(DualEncoder, self).__init__()\n",
    "        self.text_encoder = text_encoder\n",
    "        self.vision_encoder = vision_encoder\n",
    "        self.temperature = temperature\n",
    "        self.loss_criterion = nn.CrossEntropyLoss()\n",
    "\n",
    "    def forward(self, captions, images):\n",
    "        # Get the embeddings\n",
    "        caption_embeddings = self.text_encoder(captions)\n",
    "        image_embeddings = self.vision_encoder(images)\n",
    "        return caption_embeddings, image_embeddings\n",
    "\n",
    "    def compute_loss(self, caption_embeddings, image_embeddings):\n",
    "        # Calculate dot-product similarity for captions and images.\n",
    "        logits = torch.matmul(caption_embeddings, image_embeddings.t()) / self.temperature\n",
    "        captions_similarity = torch.matmul(caption_embeddings, caption_embeddings.t())\n",
    "        images_similarity = torch.matmul(image_embeddings, image_embeddings.t())\n",
    "        # Targets: average of similarities between captions and images.\n",
    "        targets = torch.nn.functional.softmax(\n",
    "            (captions_similarity + images_similarity) / (2 * self.temperature), dim=1\n",
    "        )\n",
    "        # Compute the loss using crossentropy.\n",
    "        captions_loss = self.loss_criterion(logits, torch.argmax(targets, dim=1))\n",
    "        images_loss = self.loss_criterion(logits.t(), torch.argmax(targets, dim=0))\n",
    "        # Return the mean of the loss over the batch.\n",
    "        return (captions_loss + images_loss) / 2\n",
    "\n",
    "    def training_step(self, captions, images):\n",
    "        # Forward pass\n",
    "        caption_embeddings, image_embeddings = self(captions, images)\n",
    "        loss = self.compute_loss(caption_embeddings, image_embeddings)\n",
    "        return loss\n",
    "\n",
    "    def validation_step(self, captions, images):\n",
    "        caption_embeddings, image_embeddings = self(captions, images)\n",
    "        loss = self.compute_loss(caption_embeddings, image_embeddings)\n",
    "        return loss\n"
   ]
  },
  {
   "cell_type": "markdown",
   "metadata": {},
   "source": [
    "### Train the model\n",
    "#### 1. Create Vision and Text Encoders\n",
    "These encoders are responsible for transforming the input data (video frames and text) into a shared embedding space.\n",
    "#### 2. Create DataLoader\n",
    "Prepare data to iterate over batches of paired video and text embeddings. Each batch should contain corresponding video and text embeddings that you want to train on\n",
    "#### 3. Instantiate Dual Encoder\n",
    "This model takes the output embeddings from the VisionEncoder and TextEncoder and computes the loss based on the similarity between the embeddings.\n",
    "#### 4. Training Loop\n",
    "Iterates through DataLoader batches and train the Dual Encoder. In each iteration, video and text embeddings are passed through the VisionEncoder and TextEncoder, respectively. Then, these embeddings are fed to the Dual Encoder and compute the loss. Finally, backpropagate the gradients and update the model parameters."
   ]
  },
  {
   "cell_type": "markdown",
   "metadata": {},
   "source": [
    "Graph to visualize loss over epochs between training and validation set"
   ]
  },
  {
   "cell_type": "code",
   "execution_count": 26,
   "metadata": {},
   "outputs": [],
   "source": [
    "from torch.utils.data.dataset import random_split"
   ]
  },
  {
   "cell_type": "code",
   "execution_count": 27,
   "metadata": {},
   "outputs": [],
   "source": [
    "video_embeddings_normalized_tensor = torch.rand((1000, 300))\n",
    "text_embeddings_normalized_tensor = torch.rand((1000, 300))\n",
    "\n",
    "# Split the dataset into training and validation sets\n",
    "total_samples = len(video_embeddings_normalized_tensor)\n",
    "train_size = int(0.8 * total_samples)\n",
    "val_size = total_samples - train_size\n",
    "train_dataset, val_dataset = random_split(\n",
    "    EmbeddingsDataset(video_embeddings_normalized_tensor, text_embeddings_normalized_tensor),\n",
    "    [train_size, val_size]\n",
    ")\n",
    "\n",
    "# DataLoader for training and validation\n",
    "train_dataloader = DataLoader(train_dataset, batch_size=32, shuffle=True)\n",
    "val_dataloader = DataLoader(val_dataset, batch_size=32, shuffle=False)\n",
    "\n",
    "# Instantiate VisionEncoder, TextEncoder\n",
    "vision_encoder = VisionEncoder(input_channels=300, projection_dim=512)\n",
    "text_encoder = TextEncoder(input_dim=300, projection_dim=512)\n",
    "dual_encoder = DualEncoder(text_encoder, vision_encoder, temperature=1.0)\n"
   ]
  },
  {
   "cell_type": "markdown",
   "metadata": {},
   "source": [
    "Save the model as ***final_trained_model.pth***"
   ]
  },
  {
   "cell_type": "code",
   "execution_count": 28,
   "metadata": {},
   "outputs": [
    {
     "name": "stdout",
     "output_type": "stream",
     "text": [
      "Epoch [1/10], Train Loss: 3.4082640075683592, Val Loss: 3.099536180496216\n",
      "Epoch [2/10], Train Loss: 3.125346989631653, Val Loss: 3.3172830513545444\n",
      "Epoch [3/10], Train Loss: 3.339826250076294, Val Loss: 2.5473721538271223\n",
      "Epoch [4/10], Train Loss: 2.6017779302597046, Val Loss: 2.2739738055637906\n",
      "Epoch [5/10], Train Loss: 2.1092772102355957, Val Loss: 2.2369749205453053\n",
      "Epoch [6/10], Train Loss: 1.9658233785629273, Val Loss: 2.3282233646937778\n",
      "Epoch [7/10], Train Loss: 1.6614169597625732, Val Loss: 2.5136687585285733\n",
      "Epoch [8/10], Train Loss: 1.4856292724609375, Val Loss: 2.1954744032451083\n",
      "Epoch [9/10], Train Loss: 2.29549298286438, Val Loss: 2.7917756182806834\n",
      "Epoch [10/10], Train Loss: 2.191897692680359, Val Loss: 2.183121885572161\n"
     ]
    }
   ],
   "source": [
    "# Training loop\n",
    "optimizer = torch.optim.Adam(dual_encoder.parameters(), lr=0.001)\n",
    "num_epochs = 10\n",
    "\n",
    "# Lists to store training and validation losses\n",
    "train_losses = []\n",
    "val_losses = []\n",
    "\n",
    "for epoch in range(num_epochs):\n",
    "    epoch_train_losses = []\n",
    "    epoch_val_losses = []\n",
    "\n",
    "    # Training\n",
    "    dual_encoder.train()\n",
    "    for batch in train_dataloader:\n",
    "        captions, images = batch['text_embedding'], batch['video_embedding']\n",
    "        optimizer.zero_grad()\n",
    "        caption_embeddings, image_embeddings = dual_encoder(captions, images)\n",
    "        loss = dual_encoder.compute_loss(caption_embeddings, image_embeddings)\n",
    "        loss.backward()\n",
    "        optimizer.step()\n",
    "        epoch_train_losses.append(loss.item())\n",
    "\n",
    "    # Validation\n",
    "    dual_encoder.eval()\n",
    "    with torch.no_grad():\n",
    "        for batch in val_dataloader:\n",
    "            captions, images = batch['text_embedding'], batch['video_embedding']\n",
    "            caption_embeddings, image_embeddings = dual_encoder(captions, images)\n",
    "            loss = dual_encoder.compute_loss(caption_embeddings, image_embeddings)\n",
    "            epoch_val_losses.append(loss.item())\n",
    "\n",
    "    # Calculate and store the average loss for the epoch\n",
    "    avg_epoch_train_loss = sum(epoch_train_losses) / len(epoch_train_losses)\n",
    "    avg_epoch_val_loss = sum(epoch_val_losses) / len(epoch_val_losses)\n",
    "    train_losses.append(avg_epoch_train_loss)\n",
    "    val_losses.append(avg_epoch_val_loss)\n",
    "\n",
    "    print(f\"Epoch [{epoch+1}/{num_epochs}], Train Loss: {avg_epoch_train_loss}, Val Loss: {avg_epoch_val_loss}\")\n",
    "\n",
    "    # Save the model after each epoch\n",
    "    torch.save(dual_encoder.state_dict(), f'model_epoch_{epoch+1}.pth')\n",
    "\n",
    "# Save the final trained model\n",
    "torch.save(dual_encoder.state_dict(), 'final_trained_model.pth')\n"
   ]
  },
  {
   "cell_type": "code",
   "execution_count": 29,
   "metadata": {},
   "outputs": [
    {
     "data": {
      "image/png": "[encoded data removed]",
      "text/plain": [
       "<Figure size 640x480 with 1 Axes>"
      ]
     },
     "metadata": {},
     "output_type": "display_data"
    }
   ],
   "source": [
    "# Plot the loss graph\n",
    "plt.plot(range(1, num_epochs+1), train_losses, label='Train Loss')\n",
    "plt.plot(range(1, num_epochs+1), val_losses, label='Validation Loss')\n",
    "plt.xlabel('Epochs')\n",
    "plt.ylabel('Loss')\n",
    "plt.legend()\n",
    "plt.show()"
   ]
  }
 ],
 "metadata": {
  "kernelspec": {
   "display_name": "Python 3",
   "language": "python",
   "name": "python3"
  },
  "language_info": {
   "codemirror_mode": {
    "name": "ipython",
    "version": 3
   },
   "file_extension": ".py",
   "mimetype": "text/x-python",
   "name": "python",
   "nbconvert_exporter": "python",
   "pygments_lexer": "ipython3",
   "version": "3.10.0"
  }
 },
 "nbformat": 4,
 "nbformat_minor": 2
}
